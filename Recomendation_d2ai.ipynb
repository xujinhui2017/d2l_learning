{
 "cells": [
  {
   "cell_type": "code",
   "execution_count": 386,
   "metadata": {
    "ExecuteTime": {
     "end_time": "2020-07-21T13:41:25.929767Z",
     "start_time": "2020-07-21T13:41:25.919543Z"
    }
   },
   "outputs": [],
   "source": [
    "import os\n",
    "import pandas as pd\n",
    "import matplotlib.pyplot as plt\n",
    "import random\n",
    "from scipy.sparse import rand as sprand\n",
    "import torch\n",
    "import numpy as np\n",
    "from torch.autograd import Variable"
   ]
  },
  {
   "cell_type": "code",
   "execution_count": 387,
   "metadata": {
    "ExecuteTime": {
     "end_time": "2020-07-21T13:41:29.056530Z",
     "start_time": "2020-07-21T13:41:29.046910Z"
    }
   },
   "outputs": [],
   "source": [
    "#@save\n",
    "def read_data_ml100k():\n",
    "\n",
    "    names = ['user_id', 'item_id', 'rating', 'timestamp']\n",
    "    data = pd.read_csv('u.data', '\\t', names=names,\n",
    "                       engine='python')\n",
    "    num_users = data.user_id.unique().shape[0]\n",
    "    num_items = data.item_id.unique().shape[0]\n",
    "    return data, num_users, num_items"
   ]
  },
  {
   "cell_type": "code",
   "execution_count": 388,
   "metadata": {
    "ExecuteTime": {
     "end_time": "2020-07-21T13:41:30.303167Z",
     "start_time": "2020-07-21T13:41:29.389934Z"
    }
   },
   "outputs": [
    {
     "name": "stdout",
     "output_type": "stream",
     "text": [
      "number of users: 943, number of items: 1682\n",
      "matrix sparsity: 0.936953\n",
      "   user_id  item_id  rating  timestamp\n",
      "0      196      242       3  881250949\n",
      "1      186      302       3  891717742\n",
      "2       22      377       1  878887116\n",
      "3      244       51       2  880606923\n",
      "4      166      346       1  886397596\n"
     ]
    }
   ],
   "source": [
    "data, num_users, num_items = read_data_ml100k()\n",
    "sparsity = 1 - len(data) / (num_users * num_items)\n",
    "print(f'number of users: {num_users}, number of items: {num_items}')\n",
    "print(f'matrix sparsity: {sparsity:f}')\n",
    "print(data.head(5))"
   ]
  },
  {
   "cell_type": "code",
   "execution_count": 389,
   "metadata": {
    "ExecuteTime": {
     "end_time": "2020-07-21T13:41:30.491650Z",
     "start_time": "2020-07-21T13:41:30.305312Z"
    }
   },
   "outputs": [
    {
     "data": {
      "image/png": "[encoded data removed]",
      "text/plain": [
       "<matplotlib.figure.Figure at 0x130d15470>"
      ]
     },
     "metadata": {},
     "output_type": "display_data"
    }
   ],
   "source": [
    "\n",
    "plt.hist(data['rating'], bins=5, ec='black')\n",
    "plt.xlabel('Rating')\n",
    "plt.ylabel('Count')\n",
    "plt.title('Distribution of Ratings in MovieLens 100K')\n",
    "plt.show()"
   ]
  },
  {
   "cell_type": "code",
   "execution_count": 390,
   "metadata": {
    "ExecuteTime": {
     "end_time": "2020-07-21T13:41:31.145732Z",
     "start_time": "2020-07-21T13:41:31.110721Z"
    }
   },
   "outputs": [],
   "source": [
    "def split_data_ml100k(data, num_users, num_items,\n",
    "                      split_mode='random', test_ratio=0.1):\n",
    "    \"\"\"Split the dataset in random mode or seq-aware mode.\"\"\"\n",
    "    if split_mode == 'seq-aware':\n",
    "        train_items, test_items, train_list = {}, {}, []\n",
    "        for line in data.itertuples():\n",
    "            u, i, rating, time = line[1], line[2], line[3], line[4]\n",
    "            train_items.setdefault(u, []).append((u, i, rating, time))\n",
    "            if u not in test_items or test_items[u][-1] < time:\n",
    "                test_items[u] = (i, rating, time)\n",
    "        for u in range(1, num_users + 1):\n",
    "            train_list.extend(sorted(train_items[u], key=lambda k: k[3]))\n",
    "        test_data = [(key, *value) for key, value in test_items.items()]\n",
    "        train_data = [item for item in train_list if item not in test_data]\n",
    "        train_data = pd.DataFrame(train_data)\n",
    "        test_data = pd.DataFrame(test_data)\n",
    "    else:\n",
    "        mask = [True if x == 1 else False for x in np.random.uniform(\n",
    "            0, 1, (len(data))) < 1 - test_ratio]\n",
    "        neg_mask = [not x for x in mask]\n",
    "        train_data, test_data = data[mask], data[neg_mask]\n",
    "    return train_data, test_data"
   ]
  },
  {
   "cell_type": "code",
   "execution_count": 391,
   "metadata": {
    "ExecuteTime": {
     "end_time": "2020-07-21T13:41:32.214033Z",
     "start_time": "2020-07-21T13:41:32.197531Z"
    }
   },
   "outputs": [],
   "source": [
    "def load_data_ml100k(data, num_users, num_items, feedback='explicit'):\n",
    "    users, items, scores = [], [], []\n",
    "    inter = np.zeros((num_items, num_users)) if feedback == 'explicit' else {}\n",
    "    for line in data.itertuples():\n",
    "        user_index, item_index = int(line[1] - 1), int(line[2] - 1)\n",
    "        score = int(line[3]) if feedback == 'explicit' else 1\n",
    "        users.append(user_index)\n",
    "        items.append(item_index)\n",
    "        scores.append(score)\n",
    "        if feedback == 'implicit':\n",
    "            inter.setdefault(user_index, []).append(item_index)\n",
    "        else:\n",
    "            inter[item_index, user_index] = score\n",
    "    return users, items, scores, inter"
   ]
  },
  {
   "cell_type": "code",
   "execution_count": 407,
   "metadata": {
    "ExecuteTime": {
     "end_time": "2020-07-21T13:58:28.517883Z",
     "start_time": "2020-07-21T13:58:28.386411Z"
    }
   },
   "outputs": [],
   "source": [
    "def read_original_data(filename: str):\n",
    "    train_dict = dict()\n",
    "    test_dict = dict()\n",
    "    train_list = []\n",
    "    test_list = []\n",
    "    max_user_id, min_user_id, max_item_id, min_item_id = [10] * 4\n",
    "\n",
    "    with open(filename, \"r\", encoding=\"utf-8\") as txt_file:\n",
    "        for idx, line in enumerate(txt_file):\n",
    "            # if idx > 50:\n",
    "            #     break\n",
    "            user_id, item_id, rating, times = line.strip().split('\\t')\n",
    "            user_id = int(user_id)\n",
    "            item_id = int(item_id)\n",
    "            rating = int(rating)\n",
    "\n",
    "            if user_id > max_user_id:\n",
    "                max_user_id = user_id\n",
    "            elif user_id < min_user_id:\n",
    "                min_user_id = user_id\n",
    "\n",
    "            if item_id > max_item_id:\n",
    "                max_item_id = item_id\n",
    "            elif item_id < min_item_id:\n",
    "                min_item_id = item_id\n",
    "\n",
    "            train_dict.setdefault(user_id, []).append((item_id, rating))\n",
    "            if user_id not in test_dict or times > test_dict[user_id][-1]:\n",
    "                test_dict[user_id] = (item_id, rating, times)\n",
    "\n",
    "    for user_id in train_dict:\n",
    "        for info in train_dict[user_id]:\n",
    "            item_id = info[0]\n",
    "            if item_id != test_dict[user_id][0]:\n",
    "                train_list.append((user_id, item_id, info[1]))\n",
    "            else:\n",
    "                test_list.append((user_id, item_id, info[1]))\n",
    "    return train_list, test_list, [min_user_id, max_user_id], [min_item_id, max_item_id]\n",
    "\n",
    "\n",
    "def generate_matrix(n_items: int, n_users: int, data: list):\n",
    "    result = [[0] * n_users] * n_items\n",
    "    for element in data:\n",
    "        user_id, item_id, rating = element\n",
    "        result[item_id - 1][user_id - 1] = rating\n",
    "    return result\n",
    "\n",
    "\n",
    "def write_format(target_list: list):\n",
    "    return \"\\t\".join([str(i) for i in target_list]) + \"\\n\"\n",
    "\n",
    "\n",
    "def evaluate(test_info: list, predict_matrix: list, filename: str):\n",
    "    mse = 0\n",
    "    with open(filename, \"w\", encoding=\"utf-8\") as txt_file:\n",
    "        for element in test_info:\n",
    "            user_id, item_id, rating = element\n",
    "            predict_value = predict_matrix[item_id - 1][user_id - 1]\n",
    "            mse += (predict_value - rating) ** 2\n",
    "            txt_file.write(write_format(target_list=[user_id, item_id, rating, predict_value]))\n",
    "\n",
    "    mse /= len(test_data)\n",
    "    mse = np.sqrt(mse)\n",
    "    print(mse)"
   ]
  },
  {
   "cell_type": "markdown",
   "metadata": {},
   "source": [
    "# Matrix Factorization"
   ]
  },
  {
   "cell_type": "markdown",
   "metadata": {},
   "source": [
    "R interaction matrix \\n\n",
    "P: measure the extent of interest the use has in items' corresponding characteristics' \\n\n",
    "R_ui = p_u q_i + b_u + b_i \\n\n",
    "train using l2 loss + ridge regression penality \\n\n",
    "matrix evaluation is RMSE loss \\n\n"
   ]
  },
  {
   "cell_type": "code",
   "execution_count": 9,
   "metadata": {
    "ExecuteTime": {
     "end_time": "2020-07-14T13:47:14.267654Z",
     "start_time": "2020-07-14T13:47:13.373263Z"
    }
   },
   "outputs": [],
   "source": []
  },
  {
   "cell_type": "code",
   "execution_count": 432,
   "metadata": {
    "ExecuteTime": {
     "end_time": "2020-07-21T14:36:22.373247Z",
     "start_time": "2020-07-21T14:36:22.351640Z"
    }
   },
   "outputs": [],
   "source": [
    "class MatrixFactorization(torch.nn.Module):\n",
    "    \n",
    "    def __init__(self, n_users, n_items, n_factors=20):\n",
    "        super().__init__()\n",
    "        self.user_factors = torch.nn.Embedding(n_users, \n",
    "                                               n_factors\n",
    "                                               )\n",
    "        self.item_factors = torch.nn.Embedding(n_items, \n",
    "                                               n_factors\n",
    "                                               \n",
    "                                               )\n",
    "        self.user_bias = torch.nn.Embedding(n_users, 1)\n",
    "        self.item_bias = torch.nn.Embedding(n_items, 1)\n",
    "        torch.nn.init.normal_(self.user_factors.weight, 0.1)\n",
    "        torch.nn.init.normal_(self.item_factors.weight, 0.1)\n",
    "        self.user_bias.weight.data.fill_(0.)\n",
    "        self.item_bias.weight.data.fill_(0.)\n",
    "        \n",
    "    def forward(self, user, item): #squeeze remove dimension equals to 1\n",
    "        #print((self.user_factors(user) * self.item_factors(item)).sum(1).shape)\n",
    "        #print(self.user_bias(user).shape)\n",
    "        return torch.nn.functional.relu((self.user_factors(user) * self.item_factors(item)).sum(1) + self.user_bias(user).squeeze() + self.item_bias(item).squeeze())\n",
    "    "
   ]
  },
  {
   "cell_type": "code",
   "execution_count": 433,
   "metadata": {
    "ExecuteTime": {
     "end_time": "2020-07-21T14:36:22.884368Z",
     "start_time": "2020-07-21T14:36:22.665537Z"
    }
   },
   "outputs": [],
   "source": [
    "#generate data\n",
    "num_users, num_items = 943, 1682\n",
    "train, test = split_data_ml100k(data, num_users, num_items,\n",
    "                      split_mode='random', test_ratio=0.2)"
   ]
  },
  {
   "cell_type": "code",
   "execution_count": 434,
   "metadata": {
    "ExecuteTime": {
     "end_time": "2020-07-21T14:36:22.893226Z",
     "start_time": "2020-07-21T14:36:22.886351Z"
    }
   },
   "outputs": [],
   "source": [
    "#evaluation method\n",
    "def evaluator(model, test):\n",
    "    rating = torch.FloatTensor([test['rating'].values]).squeeze()\n",
    "    row = torch.LongTensor([test['user_id'].values]).squeeze()\n",
    "    col = torch.LongTensor([test['item_id'].values]).squeeze()\n",
    "    return torch.sqrt(((model(row, col) - rating)**2).sum()/len(rating))\n",
    "    \n",
    "    "
   ]
  },
  {
   "cell_type": "code",
   "execution_count": null,
   "metadata": {
    "ExecuteTime": {
     "start_time": "2020-07-21T14:36:23.091Z"
    }
   },
   "outputs": [
    {
     "name": "stdout",
     "output_type": "stream",
     "text": [
      "tensor(3.1235, grad_fn=<SqrtBackward>) tensor(1557.1904, grad_fn=<AddBackward0>) tensor(3.1311, grad_fn=<SqrtBackward>)\n",
      "tensor(3.1038, grad_fn=<SqrtBackward>) tensor(1526.6769, grad_fn=<AddBackward0>) tensor(3.0955, grad_fn=<SqrtBackward>)\n",
      "tensor(3.0839, grad_fn=<SqrtBackward>) tensor(1489.7649, grad_fn=<AddBackward0>) tensor(3.0595, grad_fn=<SqrtBackward>)\n",
      "tensor(3.0638, grad_fn=<SqrtBackward>) tensor(1455.4121, grad_fn=<AddBackward0>) tensor(3.0242, grad_fn=<SqrtBackward>)\n",
      "tensor(3.0437, grad_fn=<SqrtBackward>) tensor(1420.6229, grad_fn=<AddBackward0>) tensor(2.9896, grad_fn=<SqrtBackward>)\n",
      "tensor(3.0234, grad_fn=<SqrtBackward>) tensor(1388.5786, grad_fn=<AddBackward0>) tensor(2.9557, grad_fn=<SqrtBackward>)\n",
      "tensor(3.0028, grad_fn=<SqrtBackward>) tensor(1356.2891, grad_fn=<AddBackward0>) tensor(2.9225, grad_fn=<SqrtBackward>)\n"
     ]
    }
   ],
   "source": [
    "#training and testing\n",
    "n_users, n_items = 944, 1683\n",
    "loss_func = torch.nn.MSELoss()\n",
    "model = MatrixFactorization(n_users, n_items, n_factors=10)\n",
    "optimizer = torch.optim.Adam(model.parameters(), \n",
    "                            lr= 1e-4, weight_decay = 1e-4 ) # learning rate\n",
    "\n",
    "l = np.array(list(range(79973)))\n",
    "\n",
    "for i in range(400):\n",
    "    random.shuffle(l)\n",
    "    loss_sum = 0\n",
    "    for ind in range(0, 79973, 512):\n",
    "            # Turn data into tensors\n",
    "            rating = Variable(torch.FloatTensor([train['rating'].iloc[l[ind: ind + 512]].values]).squeeze())\n",
    "            row = Variable(torch.LongTensor([train['user_id'].iloc[l[ind: ind + 512]].values]).squeeze())\n",
    "            col = Variable(torch.LongTensor([train['item_id'].iloc[l[ind: ind + 512]].values]).squeeze())\n",
    "\n",
    "            # Predict and calculate loss\n",
    "            prediction = model(row, col)\n",
    "            loss = loss_func(prediction, rating)\n",
    "\n",
    "            # Backpropagate\n",
    "            loss.backward()\n",
    "            loss_sum += loss\n",
    "            # Update the parameters\n",
    "            optimizer.step()\n",
    "    print(evaluator(model, test), loss_sum, evaluator(model, train))"
   ]
  },
  {
   "cell_type": "markdown",
   "metadata": {},
   "source": [
    "1. plotting using plotly\n",
    "2. try different optimizer and see the result\n",
    "3. wanshan review optimizer after work\n",
    "4. Why use variable"
   ]
  },
  {
   "cell_type": "markdown",
   "metadata": {},
   "source": [
    "take away\n",
    "initialization is very important\n",
    "train on sparse stuff is very slow"
   ]
  },
  {
   "cell_type": "markdown",
   "metadata": {},
   "source": [
    "# AutoRec"
   ]
  },
  {
   "cell_type": "markdown",
   "metadata": {},
   "source": [
    "def: identify CF with an autoencoder architecture and aims to integrate nonlinear transformations into \n",
    "    CF on the basis of explicit feedback\n",
    "structure: an input layer, a hidden layer, and a reconstruction layer. \n",
    "    use column/row of the interaction matrix as an input\n",
    "    "
   ]
  },
  {
   "cell_type": "code",
   "execution_count": 397,
   "metadata": {
    "ExecuteTime": {
     "end_time": "2020-07-21T13:43:30.715401Z",
     "start_time": "2020-07-21T13:43:30.683956Z"
    }
   },
   "outputs": [],
   "source": [
    "class AutoRec(torch.nn.Module):\n",
    "    \n",
    "    def __init__(self, n_users,  n_factors=20, dropout = 0.05):\n",
    "        super().__init__()\n",
    "        self.encoder = torch.nn.Linear(n_users, n_factors,  bias=True)\n",
    "        self.act = torch.nn.Sigmoid()\n",
    "        self.decoder = torch.nn.Linear(n_factors, n_users, bias=True)\n",
    "        self.dropout = torch.nn.Dropout(dropout)\n",
    "        #self.relu = torch.nn.ReLU(inplace=False)\n",
    "        torch.nn.init.normal_(self.encoder.weight, 0.01)\n",
    "        torch.nn.init.normal_(self.decoder.weight, 0.01)\n",
    "        #torch.nn.init.normal_(self.act.weight, 0.01)\n",
    "        \n",
    "    def forward(self, user, is_train=1 ): #squeeze remove dimension equals to 1\n",
    "        hidden = self.dropout(self.act(self.encoder(user)))\n",
    "        #print(hidden)\n",
    "        pred = self.decoder(hidden)\n",
    "#         if autograd.is_training():  # Mask the gradient during training\n",
    "#             return pred * np.sign(input) \n",
    "#         else:\n",
    "#             \n",
    "        if is_train == 1:\n",
    "            pred = pred * np.sign(user)\n",
    "        return pred"
   ]
  },
  {
   "cell_type": "code",
   "execution_count": 398,
   "metadata": {
    "ExecuteTime": {
     "end_time": "2020-07-21T13:43:32.819723Z",
     "start_time": "2020-07-21T13:43:32.817053Z"
    }
   },
   "outputs": [],
   "source": [
    "n_users = 943\n"
   ]
  },
  {
   "cell_type": "code",
   "execution_count": 399,
   "metadata": {
    "ExecuteTime": {
     "end_time": "2020-07-21T13:43:33.138018Z",
     "start_time": "2020-07-21T13:43:33.122856Z"
    }
   },
   "outputs": [
    {
     "ename": "AttributeError",
     "evalue": "'list' object has no attribute 'pivot_table'",
     "output_type": "error",
     "traceback": [
      "\u001b[0;31m---------------------------------------------------------------------------\u001b[0m",
      "\u001b[0;31mAttributeError\u001b[0m                            Traceback (most recent call last)",
      "\u001b[0;32m<ipython-input-399-774aab626463>\u001b[0m in \u001b[0;36m<module>\u001b[0;34m()\u001b[0m\n\u001b[0;32m----> 1\u001b[0;31m \u001b[0mtrain_trans\u001b[0m \u001b[0;34m=\u001b[0m \u001b[0mtrain\u001b[0m\u001b[0;34m.\u001b[0m\u001b[0mpivot_table\u001b[0m\u001b[0;34m(\u001b[0m\u001b[0mindex\u001b[0m\u001b[0;34m=\u001b[0m\u001b[0;34m'item_id'\u001b[0m\u001b[0;34m,\u001b[0m \u001b[0mcolumns\u001b[0m\u001b[0;34m=\u001b[0m\u001b[0;34m'user_id'\u001b[0m\u001b[0;34m)\u001b[0m\u001b[0;34m.\u001b[0m\u001b[0mloc\u001b[0m\u001b[0;34m[\u001b[0m\u001b[0;34m:\u001b[0m\u001b[0;34m,\u001b[0m \u001b[0;34m'rating'\u001b[0m\u001b[0;34m]\u001b[0m\u001b[0;34m\u001b[0m\u001b[0;34m\u001b[0m\u001b[0m\n\u001b[0m\u001b[1;32m      2\u001b[0m \u001b[0mtrain_trans\u001b[0m \u001b[0;34m=\u001b[0m \u001b[0mtrain_trans\u001b[0m\u001b[0;34m.\u001b[0m\u001b[0mreset_index\u001b[0m\u001b[0;34m(\u001b[0m\u001b[0;34m)\u001b[0m\u001b[0;34m.\u001b[0m\u001b[0mdrop\u001b[0m\u001b[0;34m(\u001b[0m\u001b[0;34m'item_id'\u001b[0m\u001b[0;34m,\u001b[0m \u001b[0maxis\u001b[0m \u001b[0;34m=\u001b[0m \u001b[0;36m1\u001b[0m\u001b[0;34m)\u001b[0m\u001b[0;34m.\u001b[0m\u001b[0mfillna\u001b[0m\u001b[0;34m(\u001b[0m\u001b[0;36m0\u001b[0m\u001b[0;34m)\u001b[0m\u001b[0;34m\u001b[0m\u001b[0;34m\u001b[0m\u001b[0m\n",
      "\u001b[0;31mAttributeError\u001b[0m: 'list' object has no attribute 'pivot_table'"
     ]
    }
   ],
   "source": [
    "train_trans = train.pivot_table(index='item_id', columns='user_id').loc[:, 'rating']\n",
    "train_trans = train_trans.reset_index().drop('item_id', axis = 1).fillna(0)"
   ]
  },
  {
   "cell_type": "code",
   "execution_count": 400,
   "metadata": {
    "ExecuteTime": {
     "end_time": "2020-07-21T13:43:33.354234Z",
     "start_time": "2020-07-21T13:43:33.336317Z"
    }
   },
   "outputs": [
    {
     "ename": "AttributeError",
     "evalue": "'list' object has no attribute 'pivot_table'",
     "output_type": "error",
     "traceback": [
      "\u001b[0;31m---------------------------------------------------------------------------\u001b[0m",
      "\u001b[0;31mAttributeError\u001b[0m                            Traceback (most recent call last)",
      "\u001b[0;32m<ipython-input-400-9fd0d92fb162>\u001b[0m in \u001b[0;36m<module>\u001b[0;34m()\u001b[0m\n\u001b[0;32m----> 1\u001b[0;31m \u001b[0mtest_trans\u001b[0m \u001b[0;34m=\u001b[0m \u001b[0mtest\u001b[0m\u001b[0;34m.\u001b[0m\u001b[0mpivot_table\u001b[0m\u001b[0;34m(\u001b[0m\u001b[0mindex\u001b[0m\u001b[0;34m=\u001b[0m\u001b[0;34m'item_id'\u001b[0m\u001b[0;34m,\u001b[0m \u001b[0mcolumns\u001b[0m\u001b[0;34m=\u001b[0m\u001b[0;34m'user_id'\u001b[0m\u001b[0;34m)\u001b[0m\u001b[0;34m.\u001b[0m\u001b[0mloc\u001b[0m\u001b[0;34m[\u001b[0m\u001b[0;34m:\u001b[0m\u001b[0;34m,\u001b[0m \u001b[0;34m'rating'\u001b[0m\u001b[0;34m]\u001b[0m\u001b[0;34m\u001b[0m\u001b[0;34m\u001b[0m\u001b[0m\n\u001b[0m\u001b[1;32m      2\u001b[0m \u001b[0mtest_trans\u001b[0m \u001b[0;34m=\u001b[0m \u001b[0mtest_trans\u001b[0m\u001b[0;34m.\u001b[0m\u001b[0mreset_index\u001b[0m\u001b[0;34m(\u001b[0m\u001b[0;34m)\u001b[0m\u001b[0;34m.\u001b[0m\u001b[0mdrop\u001b[0m\u001b[0;34m(\u001b[0m\u001b[0;34m'item_id'\u001b[0m\u001b[0;34m,\u001b[0m \u001b[0maxis\u001b[0m \u001b[0;34m=\u001b[0m \u001b[0;36m1\u001b[0m\u001b[0;34m)\u001b[0m\u001b[0;34m.\u001b[0m\u001b[0mfillna\u001b[0m\u001b[0;34m(\u001b[0m\u001b[0;36m0\u001b[0m\u001b[0;34m)\u001b[0m\u001b[0;34m\u001b[0m\u001b[0;34m\u001b[0m\u001b[0m\n\u001b[1;32m      3\u001b[0m \u001b[0;32mfor\u001b[0m \u001b[0mi\u001b[0m \u001b[0;32min\u001b[0m \u001b[0mrange\u001b[0m\u001b[0;34m(\u001b[0m\u001b[0;36m1\u001b[0m\u001b[0;34m,\u001b[0m \u001b[0;36m944\u001b[0m\u001b[0;34m)\u001b[0m\u001b[0;34m:\u001b[0m\u001b[0;34m\u001b[0m\u001b[0;34m\u001b[0m\u001b[0m\n\u001b[1;32m      4\u001b[0m     \u001b[0;32mif\u001b[0m \u001b[0mi\u001b[0m \u001b[0;32mnot\u001b[0m \u001b[0;32min\u001b[0m \u001b[0mtest_trans\u001b[0m\u001b[0;34m.\u001b[0m\u001b[0mcolumns\u001b[0m\u001b[0;34m:\u001b[0m\u001b[0;34m\u001b[0m\u001b[0;34m\u001b[0m\u001b[0m\n\u001b[1;32m      5\u001b[0m         \u001b[0mtest_trans\u001b[0m\u001b[0;34m[\u001b[0m\u001b[0mi\u001b[0m\u001b[0;34m]\u001b[0m \u001b[0;34m=\u001b[0m \u001b[0;36m0\u001b[0m\u001b[0;34m\u001b[0m\u001b[0;34m\u001b[0m\u001b[0m\n",
      "\u001b[0;31mAttributeError\u001b[0m: 'list' object has no attribute 'pivot_table'"
     ]
    }
   ],
   "source": [
    "test_trans = test.pivot_table(index='item_id', columns='user_id').loc[:, 'rating']\n",
    "test_trans = test_trans.reset_index().drop('item_id', axis = 1).fillna(0)\n",
    "for i in range(1, 944):\n",
    "    if i not in test_trans.columns:\n",
    "        test_trans[i] = 0\n",
    "test_trans = test_trans.sort_index(ascending=True, axis=1)"
   ]
  },
  {
   "cell_type": "code",
   "execution_count": 401,
   "metadata": {
    "ExecuteTime": {
     "end_time": "2020-07-21T13:43:42.703491Z",
     "start_time": "2020-07-21T13:43:42.697543Z"
    }
   },
   "outputs": [],
   "source": [
    "def evaluate_matrix(test_trans):\n",
    "    val = (model(Variable(torch.FloatTensor(test_trans.values))).detach().numpy() - test_trans.values)**2\n",
    "    #print(val)\n",
    "    sign = np.sign(test_trans.values)\n",
    "\n",
    "    return np.sqrt(np.sum(val * sign)/np.sum(sign))"
   ]
  },
  {
   "cell_type": "markdown",
   "metadata": {},
   "source": [
    "关于 loss\n",
    "\n",
    "loss.backward() computes dloss/dx for every parameter x which has requires_grad=True. These are accumulated into x.grad for every parameter x. In pseudo-code:\n",
    "\n",
    "x.grad += dloss/dx\n",
    "optimizer.step updates the value of x using the gradient x.grad. For example, the SGD optimizer performs:\n",
    "\n",
    "x += -lr * x.grad\n",
    "optimizer.zero_grad() clears x.grad for every parameter x in the optimizer. It’s important to call this before loss.backward(), otherwise you’ll accumulate the gradients from multiple passes.\n",
    "\n",
    "If you have multiple losses (loss1, loss2) you can sum them and then call backwards once:\n",
    "\n",
    "loss3 = loss1 + loss2\n",
    "loss3.backward()"
   ]
  },
  {
   "cell_type": "code",
   "execution_count": 411,
   "metadata": {
    "ExecuteTime": {
     "end_time": "2020-07-21T14:26:49.432312Z",
     "start_time": "2020-07-21T14:26:49.427380Z"
    }
   },
   "outputs": [
    {
     "data": {
      "text/plain": [
       "tensor([-1.4953,  1.5546,  1.4921,  0.4234])"
      ]
     },
     "execution_count": 411,
     "metadata": {},
     "output_type": "execute_result"
    }
   ],
   "source": []
  },
  {
   "cell_type": "markdown",
   "metadata": {
    "ExecuteTime": {
     "end_time": "2020-07-21T14:24:58.228188Z",
     "start_time": "2020-07-21T14:24:58.224270Z"
    }
   },
   "source": [
    "对于 istraining 比 在拿到pred 用sign 更快"
   ]
  },
  {
   "cell_type": "code",
   "execution_count": 404,
   "metadata": {
    "ExecuteTime": {
     "end_time": "2020-07-21T13:56:49.568639Z",
     "start_time": "2020-07-21T13:51:07.754497Z"
    }
   },
   "outputs": [
    {
     "name": "stdout",
     "output_type": "stream",
     "text": [
      "14.683326210634394 tensor(88.4654, grad_fn=<AddBackward0>) 14.797309719910269\n",
      "12.475249047027127 tensor(42.4289, grad_fn=<AddBackward0>) 11.199343685069225\n",
      "12.276483609264808 tensor(33.4972, grad_fn=<AddBackward0>) 9.896485949835231\n",
      "11.022524319563313 tensor(26.4467, grad_fn=<AddBackward0>) 8.9694888470072\n",
      "9.484044306429725 tensor(21.3801, grad_fn=<AddBackward0>) 7.95752944927133\n",
      "7.964184591698304 tensor(15.8457, grad_fn=<AddBackward0>) 6.886913289981216\n",
      "6.843455180860399 tensor(11.9608, grad_fn=<AddBackward0>) 5.950099806256724\n",
      "5.90475264609777 tensor(8.2655, grad_fn=<AddBackward0>) 4.985017883117118\n",
      "5.147927477276663 tensor(6.0361, grad_fn=<AddBackward0>) 4.294854373047684\n",
      "4.546448059622635 tensor(4.8081, grad_fn=<AddBackward0>) 3.8006649904748198\n",
      "4.0556940215884945 tensor(3.7723, grad_fn=<AddBackward0>) 3.3880557759090526\n",
      "3.641942445492659 tensor(3.1096, grad_fn=<AddBackward0>) 3.0642911719193533\n",
      "3.3031199671144416 tensor(2.5150, grad_fn=<AddBackward0>) 2.7761436186668624\n",
      "3.0189609395938124 tensor(2.0955, grad_fn=<AddBackward0>) 2.536655715304314\n",
      "2.771066959438655 tensor(1.8066, grad_fn=<AddBackward0>) 2.3390508184724164\n",
      "2.572145617036963 tensor(1.5721, grad_fn=<AddBackward0>) 2.1930920389079365\n",
      "2.410551102895394 tensor(1.4754, grad_fn=<AddBackward0>) 2.101150084610094\n",
      "2.2946238418713523 tensor(1.3943, grad_fn=<AddBackward0>) 2.055876879503499\n",
      "2.215802969735319 tensor(1.3391, grad_fn=<AddBackward0>) 2.0076372835744496\n",
      "2.167462342895875 tensor(1.2842, grad_fn=<AddBackward0>) 1.9516557315626355\n",
      "2.1404472969946964 tensor(1.2929, grad_fn=<AddBackward0>) 1.967438859082061\n",
      "2.153221126055412 tensor(1.3897, grad_fn=<AddBackward0>) 2.028110441286762\n",
      "2.1789268210186488 tensor(1.4719, grad_fn=<AddBackward0>) 2.0911355828500113\n",
      "2.197816799358841 tensor(1.5635, grad_fn=<AddBackward0>) 2.1389794488870906\n",
      "2.198970288729983 tensor(1.6126, grad_fn=<AddBackward0>) 2.156601156920674\n",
      "2.1757496533662484 tensor(1.5539, grad_fn=<AddBackward0>) 2.1405915116034073\n",
      "2.138508610381834 tensor(1.5076, grad_fn=<AddBackward0>) 2.0981698604207093\n",
      "2.0800196376314926 tensor(1.4278, grad_fn=<AddBackward0>) 2.038147884928311\n",
      "2.014752802526856 tensor(1.3213, grad_fn=<AddBackward0>) 1.9701091805950908\n",
      "1.9511535692784492 tensor(1.2364, grad_fn=<AddBackward0>) 1.901231422130894\n",
      "1.9097884645532845 tensor(1.1448, grad_fn=<AddBackward0>) 1.8309961698217212\n",
      "1.8906548364456066 tensor(1.0840, grad_fn=<AddBackward0>) 1.7885411173060903\n",
      "1.8913786402755999 tensor(1.0563, grad_fn=<AddBackward0>) 1.7701171134259666\n",
      "1.9066041910334697 tensor(1.0862, grad_fn=<AddBackward0>) 1.7840179507701106\n",
      "1.9360208972722108 tensor(1.0929, grad_fn=<AddBackward0>) 1.8044550697405903\n",
      "1.957463781849139 tensor(1.0999, grad_fn=<AddBackward0>) 1.818970674536119\n",
      "1.9755081534670722 tensor(1.1368, grad_fn=<AddBackward0>) 1.8387587641938807\n",
      "1.9915148640174878 tensor(1.1566, grad_fn=<AddBackward0>) 1.8575147379433765\n",
      "1.9989166400298568 tensor(1.1539, grad_fn=<AddBackward0>) 1.8677103642625432\n",
      "1.9954819987442622 tensor(1.1614, grad_fn=<AddBackward0>) 1.8634860691711714\n",
      "1.9746757615552641 tensor(1.1351, grad_fn=<AddBackward0>) 1.8400303074297486\n",
      "1.9433508421546886 tensor(1.0609, grad_fn=<AddBackward0>) 1.7950482273069444\n",
      "1.9120038646850395 tensor(1.0278, grad_fn=<AddBackward0>) 1.7544154992683882\n",
      "1.883795021583302 tensor(0.9763, grad_fn=<AddBackward0>) 1.71859259234879\n",
      "1.862630234090203 tensor(0.9363, grad_fn=<AddBackward0>) 1.6870271727008805\n",
      "1.8450689888643566 tensor(0.9078, grad_fn=<AddBackward0>) 1.6595199531501894\n",
      "1.838153891284403 tensor(0.8700, grad_fn=<AddBackward0>) 1.638717330994821\n",
      "1.8432227333827234 tensor(0.8528, grad_fn=<AddBackward0>) 1.6264863515615788\n",
      "1.8605072003929524 tensor(0.8498, grad_fn=<AddBackward0>) 1.621635279193616\n",
      "1.8915533600866816 tensor(0.8512, grad_fn=<AddBackward0>) 1.623637945595776\n",
      "1.926666936558808 tensor(0.8547, grad_fn=<AddBackward0>) 1.6331975163615866\n",
      "1.965972453916774 tensor(0.8591, grad_fn=<AddBackward0>) 1.642340312946548\n",
      "2.011706422074058 tensor(0.8787, grad_fn=<AddBackward0>) 1.6557875092641612\n",
      "2.0595558229129094 tensor(0.8858, grad_fn=<AddBackward0>) 1.6701668815126016\n",
      "2.1195279799729168 tensor(0.8872, grad_fn=<AddBackward0>) 1.6835590229336455\n",
      "2.195125361641015 tensor(0.9056, grad_fn=<AddBackward0>) 1.7006320033817655\n",
      "2.285292078590041 tensor(0.9188, grad_fn=<AddBackward0>) 1.7160273166683355\n",
      "2.375344852714667 tensor(0.9373, grad_fn=<AddBackward0>) 1.7267998848593382\n",
      "2.468042312804954 tensor(0.9360, grad_fn=<AddBackward0>) 1.7368102459570014\n",
      "2.5823725608462005 tensor(0.9319, grad_fn=<AddBackward0>) 1.7394434734426196\n",
      "2.6924132070514775 tensor(0.9216, grad_fn=<AddBackward0>) 1.7349328979259346\n",
      "2.8127896475833896 tensor(0.8769, grad_fn=<AddBackward0>) 1.7323588250175173\n",
      "2.954262692986089 tensor(0.8592, grad_fn=<AddBackward0>) 1.7329802200255846\n",
      "3.1083122440218904 tensor(0.8601, grad_fn=<AddBackward0>) 1.7485828204539922\n",
      "3.2648627665306447 tensor(0.8500, grad_fn=<AddBackward0>) 1.7639919456844693\n",
      "3.4339478521013445 tensor(0.8478, grad_fn=<AddBackward0>) 1.7874437589009562\n",
      "3.627441681883199 tensor(0.8355, grad_fn=<AddBackward0>) 1.8079639197599637\n",
      "3.8315927632639672 tensor(0.8236, grad_fn=<AddBackward0>) 1.8329295309024856\n",
      "4.056370027804197 tensor(0.8275, grad_fn=<AddBackward0>) 1.8620470263639772\n",
      "4.279150700522013 tensor(0.8228, grad_fn=<AddBackward0>) 1.8911119911301424\n",
      "4.522170422509218 tensor(0.8233, grad_fn=<AddBackward0>) 1.9222060067290985\n",
      "4.803023715654088 tensor(0.8302, grad_fn=<AddBackward0>) 1.9482372021877616\n",
      "5.076761506501229 tensor(0.8096, grad_fn=<AddBackward0>) 1.9806449056974218\n",
      "5.346705168419696 tensor(0.7942, grad_fn=<AddBackward0>) 2.0284738178017028\n",
      "5.625681889431246 tensor(0.8009, grad_fn=<AddBackward0>) 2.071098018063203\n",
      "5.959981909898929 tensor(0.8047, grad_fn=<AddBackward0>) 2.1187671642736934\n",
      "6.342557188611643 tensor(0.7974, grad_fn=<AddBackward0>) 2.165389641892912\n",
      "6.689457947289383 tensor(0.8010, grad_fn=<AddBackward0>) 2.220378885185384\n",
      "7.033068314801521 tensor(0.7995, grad_fn=<AddBackward0>) 2.2837311596758227\n",
      "7.367720606986986 tensor(0.8115, grad_fn=<AddBackward0>) 2.3461125037618373\n",
      "7.694568797965117 tensor(0.8113, grad_fn=<AddBackward0>) 2.4097322319076144\n",
      "8.000826908047763 tensor(0.8071, grad_fn=<AddBackward0>) 2.474323613934532\n",
      "8.30807805015426 tensor(0.8047, grad_fn=<AddBackward0>) 2.5377309360284053\n",
      "8.606341601482706 tensor(0.8239, grad_fn=<AddBackward0>) 2.5983106385649006\n",
      "8.985793092758358 tensor(0.8275, grad_fn=<AddBackward0>) 2.663949526020697\n",
      "9.324685603064044 tensor(0.8507, grad_fn=<AddBackward0>) 2.7160638812582945\n",
      "9.611224517995018 tensor(0.8642, grad_fn=<AddBackward0>) 2.7548668026065273\n",
      "9.900062423379126 tensor(0.8821, grad_fn=<AddBackward0>) 2.7936786849382416\n",
      "10.191626341616175 tensor(0.8515, grad_fn=<AddBackward0>) 2.806103890677676\n",
      "10.448703152853575 tensor(0.8546, grad_fn=<AddBackward0>) 2.8383598135447694\n",
      "10.763842465467878 tensor(0.8469, grad_fn=<AddBackward0>) 2.8724435527396173\n",
      "11.038026003038912 tensor(0.8548, grad_fn=<AddBackward0>) 2.916918192969761\n",
      "11.303368607666638 tensor(0.8950, grad_fn=<AddBackward0>) 2.9736689444557616\n",
      "11.615463085815486 tensor(0.9239, grad_fn=<AddBackward0>) 3.0070521021174987\n",
      "11.89348117586525 tensor(0.9057, grad_fn=<AddBackward0>) 3.031764063512938\n",
      "12.09145529134289 tensor(0.9045, grad_fn=<AddBackward0>) 3.0671133214292947\n",
      "12.215159186674507 tensor(0.9055, grad_fn=<AddBackward0>) 3.0966574003092937\n",
      "12.4209093198636 tensor(0.9214, grad_fn=<AddBackward0>) 3.127638698817865\n",
      "12.619461365367963 tensor(0.9398, grad_fn=<AddBackward0>) 3.154267666387915\n",
      "12.743049493875061 tensor(0.9554, grad_fn=<AddBackward0>) 3.2042672470111833\n"
     ]
    }
   ],
   "source": [
    "n_users, n_items = 943, 1683\n",
    "loss_func = torch.nn.MSELoss()\n",
    "model = AutoRec(n_users, n_factors=100)\n",
    "optimizer = torch.optim.Adam(model.parameters(), \n",
    "                            lr= 0.002, weight_decay = 1e-5 ) # learning rate\n",
    "\n",
    "l = np.array(list(range(943)))\n",
    "\n",
    "test, train = [], []\n",
    "for i in range(1000):\n",
    "    random.shuffle(l)\n",
    "    loss_sum = 0\n",
    "    model.train()\n",
    "    for ind in range(0, 943, 256):\n",
    "            # Turn data into tensors\n",
    "            rating = Variable(torch.FloatTensor([train_trans.iloc[l[ind: ind + 256]].values]))\n",
    "            \n",
    "            # Predict and calculate loss\n",
    "            prediction = model(rating)\n",
    "            #method1: register and match\n",
    "            #prediction.register_hook(lambda grad: grad * torch.FloatTensor(np.sign(train_trans.iloc[l[ind: ind + 256]].values) ))\n",
    "            \n",
    "            #method 1 mask after model\n",
    "            sign = torch.FloatTensor(np.sign(train_trans.iloc[l[ind: ind + 256]].values))\n",
    "            loss = loss_func(prediction * sign, rating * sign)\n",
    "\n",
    "            #mask in the model\n",
    "            loss = loss_func(prediction , rating )\n",
    "            \n",
    "                \n",
    "            # Backpropagate\n",
    "            loss.backward()\n",
    "            loss_sum += loss\n",
    "            # Update the parameters\n",
    "            optimizer.step()\n",
    "    if i % 10 == 0:\n",
    "        model.eval()\n",
    "        test.append(evaluate_matrix(test_trans))\n",
    "        train.append(evaluate_matrix(train_trans))\n",
    "        print(evaluate_matrix(test_trans), loss_sum, evaluate_matrix(train_trans))"
   ]
  },
  {
   "cell_type": "code",
   "execution_count": 406,
   "metadata": {
    "ExecuteTime": {
     "end_time": "2020-07-21T13:57:30.026739Z",
     "start_time": "2020-07-21T13:57:30.020334Z"
    }
   },
   "outputs": [
    {
     "data": {
      "text/plain": [
       "[14.683326210634394,\n",
       " 12.475249047027127,\n",
       " 12.276483609264808,\n",
       " 11.022524319563313,\n",
       " 9.484044306429725,\n",
       " 7.964184591698304,\n",
       " 6.843455180860399,\n",
       " 5.90475264609777,\n",
       " 5.147927477276663,\n",
       " 4.546448059622635,\n",
       " 4.0556940215884945,\n",
       " 3.641942445492659,\n",
       " 3.3031199671144416,\n",
       " 3.0189609395938124,\n",
       " 2.771066959438655,\n",
       " 2.572145617036963,\n",
       " 2.410551102895394,\n",
       " 2.2946238418713523,\n",
       " 2.215802969735319,\n",
       " 2.167462342895875,\n",
       " 2.1404472969946964,\n",
       " 2.153221126055412,\n",
       " 2.1789268210186488,\n",
       " 2.197816799358841,\n",
       " 2.198970288729983,\n",
       " 2.1757496533662484,\n",
       " 2.138508610381834,\n",
       " 2.0800196376314926,\n",
       " 2.014752802526856,\n",
       " 1.9511535692784492,\n",
       " 1.9097884645532845,\n",
       " 1.8906548364456066,\n",
       " 1.8913786402755999,\n",
       " 1.9066041910334697,\n",
       " 1.9360208972722108,\n",
       " 1.957463781849139,\n",
       " 1.9755081534670722,\n",
       " 1.9915148640174878,\n",
       " 1.9989166400298568,\n",
       " 1.9954819987442622,\n",
       " 1.9746757615552641,\n",
       " 1.9433508421546886,\n",
       " 1.9120038646850395,\n",
       " 1.883795021583302,\n",
       " 1.862630234090203,\n",
       " 1.8450689888643566,\n",
       " 1.838153891284403,\n",
       " 1.8432227333827234,\n",
       " 1.8605072003929524,\n",
       " 1.8915533600866816,\n",
       " 1.926666936558808,\n",
       " 1.965972453916774,\n",
       " 2.011706422074058,\n",
       " 2.0595558229129094,\n",
       " 2.1195279799729168,\n",
       " 2.195125361641015,\n",
       " 2.285292078590041,\n",
       " 2.375344852714667,\n",
       " 2.468042312804954,\n",
       " 2.5823725608462005,\n",
       " 2.6924132070514775,\n",
       " 2.8127896475833896,\n",
       " 2.954262692986089,\n",
       " 3.1083122440218904,\n",
       " 3.2648627665306447,\n",
       " 3.4339478521013445,\n",
       " 3.627441681883199,\n",
       " 3.8315927632639672,\n",
       " 4.056370027804197,\n",
       " 4.279150700522013,\n",
       " 4.522170422509218,\n",
       " 4.803023715654088,\n",
       " 5.076761506501229,\n",
       " 5.346705168419696,\n",
       " 5.625681889431246,\n",
       " 5.959981909898929,\n",
       " 6.342557188611643,\n",
       " 6.689457947289383,\n",
       " 7.033068314801521,\n",
       " 7.367720606986986,\n",
       " 7.694568797965117,\n",
       " 8.000826908047763,\n",
       " 8.30807805015426,\n",
       " 8.606341601482706,\n",
       " 8.985793092758358,\n",
       " 9.324685603064044,\n",
       " 9.611224517995018,\n",
       " 9.900062423379126,\n",
       " 10.191626341616175,\n",
       " 10.448703152853575,\n",
       " 10.763842465467878,\n",
       " 11.038026003038912,\n",
       " 11.303368607666638,\n",
       " 11.615463085815486,\n",
       " 11.89348117586525,\n",
       " 12.09145529134289,\n",
       " 12.215159186674507,\n",
       " 12.4209093198636,\n",
       " 12.619461365367963,\n",
       " 12.743049493875061]"
      ]
     },
     "execution_count": 406,
     "metadata": {},
     "output_type": "execute_result"
    }
   ],
   "source": [
    "test"
   ]
  },
  {
   "cell_type": "code",
   "execution_count": 272,
   "metadata": {
    "ExecuteTime": {
     "end_time": "2020-07-16T14:44:44.209435Z",
     "start_time": "2020-07-16T14:44:16.182418Z"
    }
   },
   "outputs": [
    {
     "name": "stdout",
     "output_type": "stream",
     "text": [
      "Collecting plotly==4.9.0\n",
      "\u001b[?25l  Downloading https://files.pythonhosted.org/packages/bf/5f/47ab0d9d843c5be0f5c5bd891736a4c84fa45c3b0a0ddb6b6df7c098c66f/plotly-4.9.0-py2.py3-none-any.whl (12.9MB)\n",
      "\u001b[K    100% |████████████████████████████████| 12.9MB 3.3MB/s eta 0:00:01\n",
      "\u001b[?25hRequirement already satisfied: six in /Users/two/anaconda3/lib/python3.6/site-packages (from plotly==4.9.0) (1.11.0)\n",
      "Collecting retrying>=1.3.3 (from plotly==4.9.0)\n",
      "  Downloading https://files.pythonhosted.org/packages/44/ef/beae4b4ef80902f22e3af073397f079c96969c69b2c7d52a57ea9ae61c9d/retrying-1.3.3.tar.gz\n",
      "Building wheels for collected packages: retrying\n",
      "  Running setup.py bdist_wheel for retrying ... \u001b[?25ldone\n",
      "\u001b[?25h  Stored in directory: /Users/two/Library/Caches/pip/wheels/d7/a9/33/acc7b709e2a35caa7d4cae442f6fe6fbf2c43f80823d46460c\n",
      "Successfully built retrying\n",
      "Installing collected packages: retrying, plotly\n",
      "Successfully installed plotly-4.9.0 retrying-1.3.3\n",
      "\u001b[33mYou are using pip version 18.0, however version 20.2b1 is available.\n",
      "You should consider upgrading via the 'pip install --upgrade pip' command.\u001b[0m\n"
     ]
    }
   ],
   "source": [
    "!pip install plotly==4.9.0"
   ]
  },
  {
   "cell_type": "code",
   "execution_count": 300,
   "metadata": {
    "ExecuteTime": {
     "end_time": "2020-07-17T14:14:31.568331Z",
     "start_time": "2020-07-17T14:14:31.561620Z"
    }
   },
   "outputs": [
    {
     "data": {
      "text/plain": [
       "[5.936595359627366,\n",
       " 4.308426273341203,\n",
       " 3.400383175321424,\n",
       " 2.895760221532256,\n",
       " 2.556590823070144,\n",
       " 2.3519294807880846,\n",
       " 2.1920607502285985,\n",
       " 2.066014936505195,\n",
       " 1.999229770205389,\n",
       " 1.9863220345946528,\n",
       " 2.001368078433109,\n",
       " 2.0221929218828563,\n",
       " 2.0450972254915074,\n",
       " 2.061240292249084,\n",
       " 2.0547907136820602,\n",
       " 2.017839706163737,\n",
       " 1.9668001342790007,\n",
       " 1.9042236409901392,\n",
       " 1.852773555001788,\n",
       " 1.81562902566686,\n",
       " 1.7862917973230548,\n",
       " 1.7617957910911841,\n",
       " 1.7477417344970652,\n",
       " 1.7444745455949855,\n",
       " 1.7495308755006713,\n",
       " 1.7555877941882585,\n",
       " 1.7489026038917135,\n",
       " 1.7304830668159465,\n",
       " 1.7046637000176936,\n",
       " 1.6815836925583632,\n",
       " 1.6697358620909744,\n",
       " 1.66673647207834,\n",
       " 1.6711707790867665,\n",
       " 1.6810399410943038,\n",
       " 1.6953374153046732,\n",
       " 1.7049213665580103,\n",
       " 1.706897358212583,\n",
       " 1.6970051182339807,\n",
       " 1.6808250745423,\n",
       " 1.6684437423639573,\n",
       " 1.6712576263923065,\n",
       " 1.6830173870831635,\n",
       " 1.7006157275330536,\n",
       " 1.7118038798303483,\n",
       " 1.717989274832314,\n",
       " 1.7310250241542544,\n",
       " 1.746893515545705,\n",
       " 1.7671204530697173,\n",
       " 1.7945164460499754,\n",
       " 1.8250562812350164,\n",
       " 1.8580514735963058,\n",
       " 1.9106050281034348,\n",
       " 1.9652180639438595,\n",
       " 2.0371757917123867,\n",
       " 2.1107813419080843,\n",
       " 2.1756082573494813,\n",
       " 2.239126693698647,\n",
       " 2.306960361631763,\n",
       " 2.4077757572072036,\n",
       " 2.502901916903956,\n",
       " 2.618752371409355,\n",
       " 2.7514970924151108,\n",
       " 2.8817061339231964,\n",
       " 3.029280417736983,\n",
       " 3.144334831164781,\n",
       " 3.2855601159027104,\n",
       " 3.4266498056234527,\n",
       " 3.5873160469138816,\n",
       " 3.7389318918851555,\n",
       " 3.8774669255282403,\n",
       " 3.940890267913589,\n",
       " 3.9955604719398052,\n",
       " 4.009795968040074,\n",
       " 4.0468898502899675,\n",
       " 4.053847701927714,\n",
       " 4.06132683608035,\n",
       " 4.128933480589566,\n",
       " 4.190075220361675,\n",
       " 4.234014276481345,\n",
       " 4.245506003979978,\n",
       " 4.205186784312935,\n",
       " 4.1500801832224825,\n",
       " 4.141937907676228,\n",
       " 4.122121190763147,\n",
       " 4.156391070736247,\n",
       " 4.153793228394223,\n",
       " 4.110132255127044,\n",
       " 4.04062602407652,\n",
       " 3.974545727499247,\n",
       " 3.874991398328465,\n",
       " 3.8047200119445073,\n",
       " 3.790585525499402,\n",
       " 3.764895018544256,\n",
       " 3.7059651608867705,\n",
       " 3.6998227297299238,\n",
       " 3.6959444056156463,\n",
       " 3.68176299664971,\n",
       " 3.6938838499510043,\n",
       " 3.7132921060245794,\n",
       " 3.706530703402625]"
      ]
     },
     "execution_count": 300,
     "metadata": {},
     "output_type": "execute_result"
    }
   ],
   "source": [
    "test"
   ]
  },
  {
   "cell_type": "code",
   "execution_count": 335,
   "metadata": {
    "ExecuteTime": {
     "end_time": "2020-07-17T14:32:12.497337Z",
     "start_time": "2020-07-17T14:32:12.490688Z"
    }
   },
   "outputs": [
    {
     "data": {
      "text/plain": [
       "array([  0.        ,   1.01010101,   2.02020202,   3.03030303,\n",
       "         4.04040404,   5.05050505,   6.06060606,   7.07070707,\n",
       "         8.08080808,   9.09090909,  10.1010101 ,  11.11111111,\n",
       "        12.12121212,  13.13131313,  14.14141414,  15.15151515,\n",
       "        16.16161616,  17.17171717,  18.18181818,  19.19191919,\n",
       "        20.2020202 ,  21.21212121,  22.22222222,  23.23232323,\n",
       "        24.24242424,  25.25252525,  26.26262626,  27.27272727,\n",
       "        28.28282828,  29.29292929,  30.3030303 ,  31.31313131,\n",
       "        32.32323232,  33.33333333,  34.34343434,  35.35353535,\n",
       "        36.36363636,  37.37373737,  38.38383838,  39.39393939,\n",
       "        40.4040404 ,  41.41414141,  42.42424242,  43.43434343,\n",
       "        44.44444444,  45.45454545,  46.46464646,  47.47474747,\n",
       "        48.48484848,  49.49494949,  50.50505051,  51.51515152,\n",
       "        52.52525253,  53.53535354,  54.54545455,  55.55555556,\n",
       "        56.56565657,  57.57575758,  58.58585859,  59.5959596 ,\n",
       "        60.60606061,  61.61616162,  62.62626263,  63.63636364,\n",
       "        64.64646465,  65.65656566,  66.66666667,  67.67676768,\n",
       "        68.68686869,  69.6969697 ,  70.70707071,  71.71717172,\n",
       "        72.72727273,  73.73737374,  74.74747475,  75.75757576,\n",
       "        76.76767677,  77.77777778,  78.78787879,  79.7979798 ,\n",
       "        80.80808081,  81.81818182,  82.82828283,  83.83838384,\n",
       "        84.84848485,  85.85858586,  86.86868687,  87.87878788,\n",
       "        88.88888889,  89.8989899 ,  90.90909091,  91.91919192,\n",
       "        92.92929293,  93.93939394,  94.94949495,  95.95959596,\n",
       "        96.96969697,  97.97979798,  98.98989899, 100.        ])"
      ]
     },
     "execution_count": 335,
     "metadata": {},
     "output_type": "execute_result"
    }
   ],
   "source": [
    "random_x"
   ]
  },
  {
   "cell_type": "code",
   "execution_count": 405,
   "metadata": {
    "ExecuteTime": {
     "end_time": "2020-07-21T13:56:59.099556Z",
     "start_time": "2020-07-21T13:56:58.991725Z"
    }
   },
   "outputs": [
    {
     "data": {
      "application/vnd.plotly.v1+json": {
       "config": {
        "plotlyServerURL": "https://plot.ly"
       },
       "data": [
        {
         "connectgaps": true,
         "marker": {
          "color": "rgb(37,37,37)"
         },
         "mode": "lines",
         "name": "test accuracy",
         "type": "scatter",
         "x": [
          0,
          1.0101010101010102,
          2.0202020202020203,
          3.0303030303030303,
          4.040404040404041,
          5.050505050505051,
          6.0606060606060606,
          7.070707070707071,
          8.080808080808081,
          9.090909090909092,
          10.101010101010102,
          11.111111111111112,
          12.121212121212121,
          13.131313131313131,
          14.141414141414142,
          15.151515151515152,
          16.161616161616163,
          17.171717171717173,
          18.181818181818183,
          19.191919191919194,
          20.202020202020204,
          21.212121212121215,
          22.222222222222225,
          23.232323232323235,
          24.242424242424242,
          25.252525252525253,
          26.262626262626263,
          27.272727272727273,
          28.282828282828284,
          29.292929292929294,
          30.303030303030305,
          31.313131313131315,
          32.323232323232325,
          33.333333333333336,
          34.343434343434346,
          35.35353535353536,
          36.36363636363637,
          37.37373737373738,
          38.38383838383839,
          39.3939393939394,
          40.40404040404041,
          41.41414141414142,
          42.42424242424243,
          43.43434343434344,
          44.44444444444445,
          45.45454545454546,
          46.46464646464647,
          47.47474747474748,
          48.484848484848484,
          49.494949494949495,
          50.505050505050505,
          51.515151515151516,
          52.525252525252526,
          53.535353535353536,
          54.54545454545455,
          55.55555555555556,
          56.56565656565657,
          57.57575757575758,
          58.58585858585859,
          59.5959595959596,
          60.60606060606061,
          61.61616161616162,
          62.62626262626263,
          63.63636363636364,
          64.64646464646465,
          65.65656565656566,
          66.66666666666667,
          67.67676767676768,
          68.68686868686869,
          69.6969696969697,
          70.70707070707071,
          71.71717171717172,
          72.72727272727273,
          73.73737373737374,
          74.74747474747475,
          75.75757575757576,
          76.76767676767678,
          77.77777777777779,
          78.7878787878788,
          79.7979797979798,
          80.80808080808082,
          81.81818181818183,
          82.82828282828284,
          83.83838383838385,
          84.84848484848486,
          85.85858585858587,
          86.86868686868688,
          87.87878787878789,
          88.8888888888889,
          89.89898989898991,
          90.90909090909092,
          91.91919191919193,
          92.92929292929294,
          93.93939393939395,
          94.94949494949496,
          95.95959595959597,
          96.96969696969697,
          97.97979797979798,
          98.98989898989899,
          100
         ],
         "y": [
          14.683326210634394,
          12.475249047027127,
          12.276483609264808,
          11.022524319563313,
          9.484044306429725,
          7.964184591698304,
          6.843455180860399,
          5.90475264609777,
          5.147927477276663,
          4.546448059622635,
          4.0556940215884945,
          3.641942445492659,
          3.3031199671144416,
          3.0189609395938124,
          2.771066959438655,
          2.572145617036963,
          2.410551102895394,
          2.2946238418713523,
          2.215802969735319,
          2.167462342895875,
          2.1404472969946964,
          2.153221126055412,
          2.1789268210186488,
          2.197816799358841,
          2.198970288729983,
          2.1757496533662484,
          2.138508610381834,
          2.0800196376314926,
          2.014752802526856,
          1.9511535692784492,
          1.9097884645532845,
          1.8906548364456066,
          1.8913786402755999,
          1.9066041910334697,
          1.9360208972722108,
          1.957463781849139,
          1.9755081534670722,
          1.9915148640174878,
          1.9989166400298568,
          1.9954819987442622,
          1.9746757615552641,
          1.9433508421546886,
          1.9120038646850395,
          1.883795021583302,
          1.862630234090203,
          1.8450689888643566,
          1.838153891284403,
          1.8432227333827234,
          1.8605072003929524,
          1.8915533600866816,
          1.926666936558808,
          1.965972453916774,
          2.011706422074058,
          2.0595558229129094,
          2.1195279799729168,
          2.195125361641015,
          2.285292078590041,
          2.375344852714667,
          2.468042312804954,
          2.5823725608462005,
          2.6924132070514775,
          2.8127896475833896,
          2.954262692986089,
          3.1083122440218904,
          3.2648627665306447,
          3.4339478521013445,
          3.627441681883199,
          3.8315927632639672,
          4.056370027804197,
          4.279150700522013,
          4.522170422509218,
          4.803023715654088,
          5.076761506501229,
          5.346705168419696,
          5.625681889431246,
          5.959981909898929,
          6.342557188611643,
          6.689457947289383,
          7.033068314801521,
          7.367720606986986,
          7.694568797965117,
          8.000826908047763,
          8.30807805015426,
          8.606341601482706,
          8.985793092758358,
          9.324685603064044,
          9.611224517995018,
          9.900062423379126,
          10.191626341616175,
          10.448703152853575,
          10.763842465467878,
          11.038026003038912,
          11.303368607666638,
          11.615463085815486,
          11.89348117586525,
          12.09145529134289,
          12.215159186674507,
          12.4209093198636,
          12.619461365367963,
          12.743049493875061
         ]
        },
        {
         "connectgaps": true,
         "marker": {
          "color": "rgb(150,150,150)"
         },
         "mode": "lines",
         "name": "train accuracy",
         "type": "scatter",
         "x": [
          0,
          1.0101010101010102,
          2.0202020202020203,
          3.0303030303030303,
          4.040404040404041,
          5.050505050505051,
          6.0606060606060606,
          7.070707070707071,
          8.080808080808081,
          9.090909090909092,
          10.101010101010102,
          11.111111111111112,
          12.121212121212121,
          13.131313131313131,
          14.141414141414142,
          15.151515151515152,
          16.161616161616163,
          17.171717171717173,
          18.181818181818183,
          19.191919191919194,
          20.202020202020204,
          21.212121212121215,
          22.222222222222225,
          23.232323232323235,
          24.242424242424242,
          25.252525252525253,
          26.262626262626263,
          27.272727272727273,
          28.282828282828284,
          29.292929292929294,
          30.303030303030305,
          31.313131313131315,
          32.323232323232325,
          33.333333333333336,
          34.343434343434346,
          35.35353535353536,
          36.36363636363637,
          37.37373737373738,
          38.38383838383839,
          39.3939393939394,
          40.40404040404041,
          41.41414141414142,
          42.42424242424243,
          43.43434343434344,
          44.44444444444445,
          45.45454545454546,
          46.46464646464647,
          47.47474747474748,
          48.484848484848484,
          49.494949494949495,
          50.505050505050505,
          51.515151515151516,
          52.525252525252526,
          53.535353535353536,
          54.54545454545455,
          55.55555555555556,
          56.56565656565657,
          57.57575757575758,
          58.58585858585859,
          59.5959595959596,
          60.60606060606061,
          61.61616161616162,
          62.62626262626263,
          63.63636363636364,
          64.64646464646465,
          65.65656565656566,
          66.66666666666667,
          67.67676767676768,
          68.68686868686869,
          69.6969696969697,
          70.70707070707071,
          71.71717171717172,
          72.72727272727273,
          73.73737373737374,
          74.74747474747475,
          75.75757575757576,
          76.76767676767678,
          77.77777777777779,
          78.7878787878788,
          79.7979797979798,
          80.80808080808082,
          81.81818181818183,
          82.82828282828284,
          83.83838383838385,
          84.84848484848486,
          85.85858585858587,
          86.86868686868688,
          87.87878787878789,
          88.8888888888889,
          89.89898989898991,
          90.90909090909092,
          91.91919191919193,
          92.92929292929294,
          93.93939393939395,
          94.94949494949496,
          95.95959595959597,
          96.96969696969697,
          97.97979797979798,
          98.98989898989899,
          100
         ],
         "y": [
          14.797309719910269,
          11.199343685069225,
          9.896485949835231,
          8.9694888470072,
          7.95752944927133,
          6.886913289981216,
          5.950099806256724,
          4.985017883117118,
          4.294854373047684,
          3.8006649904748198,
          3.3880557759090526,
          3.0642911719193533,
          2.7761436186668624,
          2.536655715304314,
          2.3390508184724164,
          2.1930920389079365,
          2.101150084610094,
          2.055876879503499,
          2.0076372835744496,
          1.9516557315626355,
          1.967438859082061,
          2.028110441286762,
          2.0911355828500113,
          2.1389794488870906,
          2.156601156920674,
          2.1405915116034073,
          2.0981698604207093,
          2.038147884928311,
          1.9701091805950908,
          1.901231422130894,
          1.8309961698217212,
          1.7885411173060903,
          1.7701171134259666,
          1.7840179507701106,
          1.8044550697405903,
          1.818970674536119,
          1.8387587641938807,
          1.8575147379433765,
          1.8677103642625432,
          1.8634860691711714,
          1.8400303074297486,
          1.7950482273069444,
          1.7544154992683882,
          1.71859259234879,
          1.6870271727008805,
          1.6595199531501894,
          1.638717330994821,
          1.6264863515615788,
          1.621635279193616,
          1.623637945595776,
          1.6331975163615866,
          1.642340312946548,
          1.6557875092641612,
          1.6701668815126016,
          1.6835590229336455,
          1.7006320033817655,
          1.7160273166683355,
          1.7267998848593382,
          1.7368102459570014,
          1.7394434734426196,
          1.7349328979259346,
          1.7323588250175173,
          1.7329802200255846,
          1.7485828204539922,
          1.7639919456844693,
          1.7874437589009562,
          1.8079639197599637,
          1.8329295309024856,
          1.8620470263639772,
          1.8911119911301424,
          1.9222060067290985,
          1.9482372021877616,
          1.9806449056974218,
          2.0284738178017028,
          2.071098018063203,
          2.1187671642736934,
          2.165389641892912,
          2.220378885185384,
          2.2837311596758227,
          2.3461125037618373,
          2.4097322319076144,
          2.474323613934532,
          2.5377309360284053,
          2.5983106385649006,
          2.663949526020697,
          2.7160638812582945,
          2.7548668026065273,
          2.7936786849382416,
          2.806103890677676,
          2.8383598135447694,
          2.8724435527396173,
          2.916918192969761,
          2.9736689444557616,
          3.0070521021174987,
          3.031764063512938,
          3.0671133214292947,
          3.0966574003092937,
          3.127638698817865,
          3.154267666387915,
          3.2042672470111833
         ]
        }
       ],
       "layout": {
        "annotations": [
         {
          "font": {
           "color": "rgb(37,37,37)",
           "family": "Arial",
           "size": 16
          },
          "showarrow": false,
          "text": "test",
          "x": 1.07,
          "xanchor": "right",
          "xref": "paper",
          "y": 12.743049493875061
         },
         {
          "font": {
           "color": "rgb(150,150,150)",
           "family": "Arial",
           "size": 16
          },
          "showarrow": false,
          "text": "train",
          "x": 1.07,
          "xanchor": "right",
          "xref": "paper",
          "y": 3.2042672470111833
         },
         {
          "font": {
           "color": "rgb(150,150,150)",
           "family": "Arial",
           "size": 30
          },
          "showarrow": false,
          "text": "AutoRec Accuracy",
          "x": 0,
          "xanchor": "left",
          "xref": "paper",
          "y": 1.05,
          "yanchor": "bottom",
          "yref": "paper"
         }
        ],
        "autosize": false,
        "margin": {
         "autoexpand": false,
         "l": 120,
         "r": 40,
         "t": 130
        },
        "plot_bgcolor": "white",
        "showlegend": false,
        "template": {
         "data": {
          "bar": [
           {
            "error_x": {
             "color": "#2a3f5f"
            },
            "error_y": {
             "color": "#2a3f5f"
            },
            "marker": {
             "line": {
              "color": "#E5ECF6",
              "width": 0.5
             }
            },
            "type": "bar"
           }
          ],
          "barpolar": [
           {
            "marker": {
             "line": {
              "color": "#E5ECF6",
              "width": 0.5
             }
            },
            "type": "barpolar"
           }
          ],
          "carpet": [
           {
            "aaxis": {
             "endlinecolor": "#2a3f5f",
             "gridcolor": "white",
             "linecolor": "white",
             "minorgridcolor": "white",
             "startlinecolor": "#2a3f5f"
            },
            "baxis": {
             "endlinecolor": "#2a3f5f",
             "gridcolor": "white",
             "linecolor": "white",
             "minorgridcolor": "white",
             "startlinecolor": "#2a3f5f"
            },
            "type": "carpet"
           }
          ],
          "choropleth": [
           {
            "colorbar": {
             "outlinewidth": 0,
             "ticks": ""
            },
            "type": "choropleth"
           }
          ],
          "contour": [
           {
            "colorbar": {
             "outlinewidth": 0,
             "ticks": ""
            },
            "colorscale": [
             [
              0,
              "#0d0887"
             ],
             [
              0.1111111111111111,
              "#46039f"
             ],
             [
              0.2222222222222222,
              "#7201a8"
             ],
             [
              0.3333333333333333,
              "#9c179e"
             ],
             [
              0.4444444444444444,
              "#bd3786"
             ],
             [
              0.5555555555555556,
              "#d8576b"
             ],
             [
              0.6666666666666666,
              "#ed7953"
             ],
             [
              0.7777777777777778,
              "#fb9f3a"
             ],
             [
              0.8888888888888888,
              "#fdca26"
             ],
             [
              1,
              "#f0f921"
             ]
            ],
            "type": "contour"
           }
          ],
          "contourcarpet": [
           {
            "colorbar": {
             "outlinewidth": 0,
             "ticks": ""
            },
            "type": "contourcarpet"
           }
          ],
          "heatmap": [
           {
            "colorbar": {
             "outlinewidth": 0,
             "ticks": ""
            },
            "colorscale": [
             [
              0,
              "#0d0887"
             ],
             [
              0.1111111111111111,
              "#46039f"
             ],
             [
              0.2222222222222222,
              "#7201a8"
             ],
             [
              0.3333333333333333,
              "#9c179e"
             ],
             [
              0.4444444444444444,
              "#bd3786"
             ],
             [
              0.5555555555555556,
              "#d8576b"
             ],
             [
              0.6666666666666666,
              "#ed7953"
             ],
             [
              0.7777777777777778,
              "#fb9f3a"
             ],
             [
              0.8888888888888888,
              "#fdca26"
             ],
             [
              1,
              "#f0f921"
             ]
            ],
            "type": "heatmap"
           }
          ],
          "heatmapgl": [
           {
            "colorbar": {
             "outlinewidth": 0,
             "ticks": ""
            },
            "colorscale": [
             [
              0,
              "#0d0887"
             ],
             [
              0.1111111111111111,
              "#46039f"
             ],
             [
              0.2222222222222222,
              "#7201a8"
             ],
             [
              0.3333333333333333,
              "#9c179e"
             ],
             [
              0.4444444444444444,
              "#bd3786"
             ],
             [
              0.5555555555555556,
              "#d8576b"
             ],
             [
              0.6666666666666666,
              "#ed7953"
             ],
             [
              0.7777777777777778,
              "#fb9f3a"
             ],
             [
              0.8888888888888888,
              "#fdca26"
             ],
             [
              1,
              "#f0f921"
             ]
            ],
            "type": "heatmapgl"
           }
          ],
          "histogram": [
           {
            "marker": {
             "colorbar": {
              "outlinewidth": 0,
              "ticks": ""
             }
            },
            "type": "histogram"
           }
          ],
          "histogram2d": [
           {
            "colorbar": {
             "outlinewidth": 0,
             "ticks": ""
            },
            "colorscale": [
             [
              0,
              "#0d0887"
             ],
             [
              0.1111111111111111,
              "#46039f"
             ],
             [
              0.2222222222222222,
              "#7201a8"
             ],
             [
              0.3333333333333333,
              "#9c179e"
             ],
             [
              0.4444444444444444,
              "#bd3786"
             ],
             [
              0.5555555555555556,
              "#d8576b"
             ],
             [
              0.6666666666666666,
              "#ed7953"
             ],
             [
              0.7777777777777778,
              "#fb9f3a"
             ],
             [
              0.8888888888888888,
              "#fdca26"
             ],
             [
              1,
              "#f0f921"
             ]
            ],
            "type": "histogram2d"
           }
          ],
          "histogram2dcontour": [
           {
            "colorbar": {
             "outlinewidth": 0,
             "ticks": ""
            },
            "colorscale": [
             [
              0,
              "#0d0887"
             ],
             [
              0.1111111111111111,
              "#46039f"
             ],
             [
              0.2222222222222222,
              "#7201a8"
             ],
             [
              0.3333333333333333,
              "#9c179e"
             ],
             [
              0.4444444444444444,
              "#bd3786"
             ],
             [
              0.5555555555555556,
              "#d8576b"
             ],
             [
              0.6666666666666666,
              "#ed7953"
             ],
             [
              0.7777777777777778,
              "#fb9f3a"
             ],
             [
              0.8888888888888888,
              "#fdca26"
             ],
             [
              1,
              "#f0f921"
             ]
            ],
            "type": "histogram2dcontour"
           }
          ],
          "mesh3d": [
           {
            "colorbar": {
             "outlinewidth": 0,
             "ticks": ""
            },
            "type": "mesh3d"
           }
          ],
          "parcoords": [
           {
            "line": {
             "colorbar": {
              "outlinewidth": 0,
              "ticks": ""
             }
            },
            "type": "parcoords"
           }
          ],
          "pie": [
           {
            "automargin": true,
            "type": "pie"
           }
          ],
          "scatter": [
           {
            "marker": {
             "colorbar": {
              "outlinewidth": 0,
              "ticks": ""
             }
            },
            "type": "scatter"
           }
          ],
          "scatter3d": [
           {
            "line": {
             "colorbar": {
              "outlinewidth": 0,
              "ticks": ""
             }
            },
            "marker": {
             "colorbar": {
              "outlinewidth": 0,
              "ticks": ""
             }
            },
            "type": "scatter3d"
           }
          ],
          "scattercarpet": [
           {
            "marker": {
             "colorbar": {
              "outlinewidth": 0,
              "ticks": ""
             }
            },
            "type": "scattercarpet"
           }
          ],
          "scattergeo": [
           {
            "marker": {
             "colorbar": {
              "outlinewidth": 0,
              "ticks": ""
             }
            },
            "type": "scattergeo"
           }
          ],
          "scattergl": [
           {
            "marker": {
             "colorbar": {
              "outlinewidth": 0,
              "ticks": ""
             }
            },
            "type": "scattergl"
           }
          ],
          "scattermapbox": [
           {
            "marker": {
             "colorbar": {
              "outlinewidth": 0,
              "ticks": ""
             }
            },
            "type": "scattermapbox"
           }
          ],
          "scatterpolar": [
           {
            "marker": {
             "colorbar": {
              "outlinewidth": 0,
              "ticks": ""
             }
            },
            "type": "scatterpolar"
           }
          ],
          "scatterpolargl": [
           {
            "marker": {
             "colorbar": {
              "outlinewidth": 0,
              "ticks": ""
             }
            },
            "type": "scatterpolargl"
           }
          ],
          "scatterternary": [
           {
            "marker": {
             "colorbar": {
              "outlinewidth": 0,
              "ticks": ""
             }
            },
            "type": "scatterternary"
           }
          ],
          "surface": [
           {
            "colorbar": {
             "outlinewidth": 0,
             "ticks": ""
            },
            "colorscale": [
             [
              0,
              "#0d0887"
             ],
             [
              0.1111111111111111,
              "#46039f"
             ],
             [
              0.2222222222222222,
              "#7201a8"
             ],
             [
              0.3333333333333333,
              "#9c179e"
             ],
             [
              0.4444444444444444,
              "#bd3786"
             ],
             [
              0.5555555555555556,
              "#d8576b"
             ],
             [
              0.6666666666666666,
              "#ed7953"
             ],
             [
              0.7777777777777778,
              "#fb9f3a"
             ],
             [
              0.8888888888888888,
              "#fdca26"
             ],
             [
              1,
              "#f0f921"
             ]
            ],
            "type": "surface"
           }
          ],
          "table": [
           {
            "cells": {
             "fill": {
              "color": "#EBF0F8"
             },
             "line": {
              "color": "white"
             }
            },
            "header": {
             "fill": {
              "color": "#C8D4E3"
             },
             "line": {
              "color": "white"
             }
            },
            "type": "table"
           }
          ]
         },
         "layout": {
          "annotationdefaults": {
           "arrowcolor": "#2a3f5f",
           "arrowhead": 0,
           "arrowwidth": 1
          },
          "coloraxis": {
           "colorbar": {
            "outlinewidth": 0,
            "ticks": ""
           }
          },
          "colorscale": {
           "diverging": [
            [
             0,
             "#8e0152"
            ],
            [
             0.1,
             "#c51b7d"
            ],
            [
             0.2,
             "#de77ae"
            ],
            [
             0.3,
             "#f1b6da"
            ],
            [
             0.4,
             "#fde0ef"
            ],
            [
             0.5,
             "#f7f7f7"
            ],
            [
             0.6,
             "#e6f5d0"
            ],
            [
             0.7,
             "#b8e186"
            ],
            [
             0.8,
             "#7fbc41"
            ],
            [
             0.9,
             "#4d9221"
            ],
            [
             1,
             "#276419"
            ]
           ],
           "sequential": [
            [
             0,
             "#0d0887"
            ],
            [
             0.1111111111111111,
             "#46039f"
            ],
            [
             0.2222222222222222,
             "#7201a8"
            ],
            [
             0.3333333333333333,
             "#9c179e"
            ],
            [
             0.4444444444444444,
             "#bd3786"
            ],
            [
             0.5555555555555556,
             "#d8576b"
            ],
            [
             0.6666666666666666,
             "#ed7953"
            ],
            [
             0.7777777777777778,
             "#fb9f3a"
            ],
            [
             0.8888888888888888,
             "#fdca26"
            ],
            [
             1,
             "#f0f921"
            ]
           ],
           "sequentialminus": [
            [
             0,
             "#0d0887"
            ],
            [
             0.1111111111111111,
             "#46039f"
            ],
            [
             0.2222222222222222,
             "#7201a8"
            ],
            [
             0.3333333333333333,
             "#9c179e"
            ],
            [
             0.4444444444444444,
             "#bd3786"
            ],
            [
             0.5555555555555556,
             "#d8576b"
            ],
            [
             0.6666666666666666,
             "#ed7953"
            ],
            [
             0.7777777777777778,
             "#fb9f3a"
            ],
            [
             0.8888888888888888,
             "#fdca26"
            ],
            [
             1,
             "#f0f921"
            ]
           ]
          },
          "colorway": [
           "#636efa",
           "#EF553B",
           "#00cc96",
           "#ab63fa",
           "#FFA15A",
           "#19d3f3",
           "#FF6692",
           "#B6E880",
           "#FF97FF",
           "#FECB52"
          ],
          "font": {
           "color": "#2a3f5f"
          },
          "geo": {
           "bgcolor": "white",
           "lakecolor": "white",
           "landcolor": "#E5ECF6",
           "showlakes": true,
           "showland": true,
           "subunitcolor": "white"
          },
          "hoverlabel": {
           "align": "left"
          },
          "hovermode": "closest",
          "mapbox": {
           "style": "light"
          },
          "paper_bgcolor": "white",
          "plot_bgcolor": "#E5ECF6",
          "polar": {
           "angularaxis": {
            "gridcolor": "white",
            "linecolor": "white",
            "ticks": ""
           },
           "bgcolor": "#E5ECF6",
           "radialaxis": {
            "gridcolor": "white",
            "linecolor": "white",
            "ticks": ""
           }
          },
          "scene": {
           "xaxis": {
            "backgroundcolor": "#E5ECF6",
            "gridcolor": "white",
            "gridwidth": 2,
            "linecolor": "white",
            "showbackground": true,
            "ticks": "",
            "zerolinecolor": "white"
           },
           "yaxis": {
            "backgroundcolor": "#E5ECF6",
            "gridcolor": "white",
            "gridwidth": 2,
            "linecolor": "white",
            "showbackground": true,
            "ticks": "",
            "zerolinecolor": "white"
           },
           "zaxis": {
            "backgroundcolor": "#E5ECF6",
            "gridcolor": "white",
            "gridwidth": 2,
            "linecolor": "white",
            "showbackground": true,
            "ticks": "",
            "zerolinecolor": "white"
           }
          },
          "shapedefaults": {
           "line": {
            "color": "#2a3f5f"
           }
          },
          "ternary": {
           "aaxis": {
            "gridcolor": "white",
            "linecolor": "white",
            "ticks": ""
           },
           "baxis": {
            "gridcolor": "white",
            "linecolor": "white",
            "ticks": ""
           },
           "bgcolor": "#E5ECF6",
           "caxis": {
            "gridcolor": "white",
            "linecolor": "white",
            "ticks": ""
           }
          },
          "title": {
           "x": 0.05
          },
          "xaxis": {
           "automargin": true,
           "gridcolor": "white",
           "linecolor": "white",
           "ticks": "",
           "title": {
            "standoff": 15
           },
           "zerolinecolor": "white",
           "zerolinewidth": 2
          },
          "yaxis": {
           "automargin": true,
           "gridcolor": "white",
           "linecolor": "white",
           "ticks": "",
           "title": {
            "standoff": 15
           },
           "zerolinecolor": "white",
           "zerolinewidth": 2
          }
         }
        },
        "xaxis": {
         "showgrid": false,
         "showline": false,
         "showticklabels": false
        },
        "yaxis": {
         "showgrid": false,
         "showline": false,
         "showticklabels": true,
         "zeroline": false
        }
       }
      },
      "text/html": [
       "<div>\n",
       "        \n",
       "        \n",
       "            <div id=\"822e2ae6-690d-47cb-9054-ad574b8fe5d0\" class=\"plotly-graph-div\" style=\"height:525px; width:100%;\"></div>\n",
       "            <script type=\"text/javascript\">\n",
       "                require([\"plotly\"], function(Plotly) {\n",
       "                    window.PLOTLYENV=window.PLOTLYENV || {};\n",
       "                    \n",
       "                if (document.getElementById(\"822e2ae6-690d-47cb-9054-ad574b8fe5d0\")) {\n",
       "                    Plotly.newPlot(\n",
       "                        '822e2ae6-690d-47cb-9054-ad574b8fe5d0',\n",
       "                        [{\"connectgaps\": true, \"marker\": {\"color\": \"rgb(37,37,37)\"}, \"mode\": \"lines\", \"name\": \"test accuracy\", \"type\": \"scatter\", \"x\": [0.0, 1.0101010101010102, 2.0202020202020203, 3.0303030303030303, 4.040404040404041, 5.050505050505051, 6.0606060606060606, 7.070707070707071, 8.080808080808081, 9.090909090909092, 10.101010101010102, 11.111111111111112, 12.121212121212121, 13.131313131313131, 14.141414141414142, 15.151515151515152, 16.161616161616163, 17.171717171717173, 18.181818181818183, 19.191919191919194, 20.202020202020204, 21.212121212121215, 22.222222222222225, 23.232323232323235, 24.242424242424242, 25.252525252525253, 26.262626262626263, 27.272727272727273, 28.282828282828284, 29.292929292929294, 30.303030303030305, 31.313131313131315, 32.323232323232325, 33.333333333333336, 34.343434343434346, 35.35353535353536, 36.36363636363637, 37.37373737373738, 38.38383838383839, 39.3939393939394, 40.40404040404041, 41.41414141414142, 42.42424242424243, 43.43434343434344, 44.44444444444445, 45.45454545454546, 46.46464646464647, 47.47474747474748, 48.484848484848484, 49.494949494949495, 50.505050505050505, 51.515151515151516, 52.525252525252526, 53.535353535353536, 54.54545454545455, 55.55555555555556, 56.56565656565657, 57.57575757575758, 58.58585858585859, 59.5959595959596, 60.60606060606061, 61.61616161616162, 62.62626262626263, 63.63636363636364, 64.64646464646465, 65.65656565656566, 66.66666666666667, 67.67676767676768, 68.68686868686869, 69.6969696969697, 70.70707070707071, 71.71717171717172, 72.72727272727273, 73.73737373737374, 74.74747474747475, 75.75757575757576, 76.76767676767678, 77.77777777777779, 78.7878787878788, 79.7979797979798, 80.80808080808082, 81.81818181818183, 82.82828282828284, 83.83838383838385, 84.84848484848486, 85.85858585858587, 86.86868686868688, 87.87878787878789, 88.8888888888889, 89.89898989898991, 90.90909090909092, 91.91919191919193, 92.92929292929294, 93.93939393939395, 94.94949494949496, 95.95959595959597, 96.96969696969697, 97.97979797979798, 98.98989898989899, 100.0], \"y\": [14.683326210634394, 12.475249047027127, 12.276483609264808, 11.022524319563313, 9.484044306429725, 7.964184591698304, 6.843455180860399, 5.90475264609777, 5.147927477276663, 4.546448059622635, 4.0556940215884945, 3.641942445492659, 3.3031199671144416, 3.0189609395938124, 2.771066959438655, 2.572145617036963, 2.410551102895394, 2.2946238418713523, 2.215802969735319, 2.167462342895875, 2.1404472969946964, 2.153221126055412, 2.1789268210186488, 2.197816799358841, 2.198970288729983, 2.1757496533662484, 2.138508610381834, 2.0800196376314926, 2.014752802526856, 1.9511535692784492, 1.9097884645532845, 1.8906548364456066, 1.8913786402755999, 1.9066041910334697, 1.9360208972722108, 1.957463781849139, 1.9755081534670722, 1.9915148640174878, 1.9989166400298568, 1.9954819987442622, 1.9746757615552641, 1.9433508421546886, 1.9120038646850395, 1.883795021583302, 1.862630234090203, 1.8450689888643566, 1.838153891284403, 1.8432227333827234, 1.8605072003929524, 1.8915533600866816, 1.926666936558808, 1.965972453916774, 2.011706422074058, 2.0595558229129094, 2.1195279799729168, 2.195125361641015, 2.285292078590041, 2.375344852714667, 2.468042312804954, 2.5823725608462005, 2.6924132070514775, 2.8127896475833896, 2.954262692986089, 3.1083122440218904, 3.2648627665306447, 3.4339478521013445, 3.627441681883199, 3.8315927632639672, 4.056370027804197, 4.279150700522013, 4.522170422509218, 4.803023715654088, 5.076761506501229, 5.346705168419696, 5.625681889431246, 5.959981909898929, 6.342557188611643, 6.689457947289383, 7.033068314801521, 7.367720606986986, 7.694568797965117, 8.000826908047763, 8.30807805015426, 8.606341601482706, 8.985793092758358, 9.324685603064044, 9.611224517995018, 9.900062423379126, 10.191626341616175, 10.448703152853575, 10.763842465467878, 11.038026003038912, 11.303368607666638, 11.615463085815486, 11.89348117586525, 12.09145529134289, 12.215159186674507, 12.4209093198636, 12.619461365367963, 12.743049493875061]}, {\"connectgaps\": true, \"marker\": {\"color\": \"rgb(150,150,150)\"}, \"mode\": \"lines\", \"name\": \"train accuracy\", \"type\": \"scatter\", \"x\": [0.0, 1.0101010101010102, 2.0202020202020203, 3.0303030303030303, 4.040404040404041, 5.050505050505051, 6.0606060606060606, 7.070707070707071, 8.080808080808081, 9.090909090909092, 10.101010101010102, 11.111111111111112, 12.121212121212121, 13.131313131313131, 14.141414141414142, 15.151515151515152, 16.161616161616163, 17.171717171717173, 18.181818181818183, 19.191919191919194, 20.202020202020204, 21.212121212121215, 22.222222222222225, 23.232323232323235, 24.242424242424242, 25.252525252525253, 26.262626262626263, 27.272727272727273, 28.282828282828284, 29.292929292929294, 30.303030303030305, 31.313131313131315, 32.323232323232325, 33.333333333333336, 34.343434343434346, 35.35353535353536, 36.36363636363637, 37.37373737373738, 38.38383838383839, 39.3939393939394, 40.40404040404041, 41.41414141414142, 42.42424242424243, 43.43434343434344, 44.44444444444445, 45.45454545454546, 46.46464646464647, 47.47474747474748, 48.484848484848484, 49.494949494949495, 50.505050505050505, 51.515151515151516, 52.525252525252526, 53.535353535353536, 54.54545454545455, 55.55555555555556, 56.56565656565657, 57.57575757575758, 58.58585858585859, 59.5959595959596, 60.60606060606061, 61.61616161616162, 62.62626262626263, 63.63636363636364, 64.64646464646465, 65.65656565656566, 66.66666666666667, 67.67676767676768, 68.68686868686869, 69.6969696969697, 70.70707070707071, 71.71717171717172, 72.72727272727273, 73.73737373737374, 74.74747474747475, 75.75757575757576, 76.76767676767678, 77.77777777777779, 78.7878787878788, 79.7979797979798, 80.80808080808082, 81.81818181818183, 82.82828282828284, 83.83838383838385, 84.84848484848486, 85.85858585858587, 86.86868686868688, 87.87878787878789, 88.8888888888889, 89.89898989898991, 90.90909090909092, 91.91919191919193, 92.92929292929294, 93.93939393939395, 94.94949494949496, 95.95959595959597, 96.96969696969697, 97.97979797979798, 98.98989898989899, 100.0], \"y\": [14.797309719910269, 11.199343685069225, 9.896485949835231, 8.9694888470072, 7.95752944927133, 6.886913289981216, 5.950099806256724, 4.985017883117118, 4.294854373047684, 3.8006649904748198, 3.3880557759090526, 3.0642911719193533, 2.7761436186668624, 2.536655715304314, 2.3390508184724164, 2.1930920389079365, 2.101150084610094, 2.055876879503499, 2.0076372835744496, 1.9516557315626355, 1.967438859082061, 2.028110441286762, 2.0911355828500113, 2.1389794488870906, 2.156601156920674, 2.1405915116034073, 2.0981698604207093, 2.038147884928311, 1.9701091805950908, 1.901231422130894, 1.8309961698217212, 1.7885411173060903, 1.7701171134259666, 1.7840179507701106, 1.8044550697405903, 1.818970674536119, 1.8387587641938807, 1.8575147379433765, 1.8677103642625432, 1.8634860691711714, 1.8400303074297486, 1.7950482273069444, 1.7544154992683882, 1.71859259234879, 1.6870271727008805, 1.6595199531501894, 1.638717330994821, 1.6264863515615788, 1.621635279193616, 1.623637945595776, 1.6331975163615866, 1.642340312946548, 1.6557875092641612, 1.6701668815126016, 1.6835590229336455, 1.7006320033817655, 1.7160273166683355, 1.7267998848593382, 1.7368102459570014, 1.7394434734426196, 1.7349328979259346, 1.7323588250175173, 1.7329802200255846, 1.7485828204539922, 1.7639919456844693, 1.7874437589009562, 1.8079639197599637, 1.8329295309024856, 1.8620470263639772, 1.8911119911301424, 1.9222060067290985, 1.9482372021877616, 1.9806449056974218, 2.0284738178017028, 2.071098018063203, 2.1187671642736934, 2.165389641892912, 2.220378885185384, 2.2837311596758227, 2.3461125037618373, 2.4097322319076144, 2.474323613934532, 2.5377309360284053, 2.5983106385649006, 2.663949526020697, 2.7160638812582945, 2.7548668026065273, 2.7936786849382416, 2.806103890677676, 2.8383598135447694, 2.8724435527396173, 2.916918192969761, 2.9736689444557616, 3.0070521021174987, 3.031764063512938, 3.0671133214292947, 3.0966574003092937, 3.127638698817865, 3.154267666387915, 3.2042672470111833]}],\n",
       "                        {\"annotations\": [{\"font\": {\"color\": \"rgb(37,37,37)\", \"family\": \"Arial\", \"size\": 16}, \"showarrow\": false, \"text\": \"test\", \"x\": 1.07, \"xanchor\": \"right\", \"xref\": \"paper\", \"y\": 12.743049493875061}, {\"font\": {\"color\": \"rgb(150,150,150)\", \"family\": \"Arial\", \"size\": 16}, \"showarrow\": false, \"text\": \"train\", \"x\": 1.07, \"xanchor\": \"right\", \"xref\": \"paper\", \"y\": 3.2042672470111833}, {\"font\": {\"color\": \"rgb(150,150,150)\", \"family\": \"Arial\", \"size\": 30}, \"showarrow\": false, \"text\": \"AutoRec Accuracy\", \"x\": 0.0, \"xanchor\": \"left\", \"xref\": \"paper\", \"y\": 1.05, \"yanchor\": \"bottom\", \"yref\": \"paper\"}], \"autosize\": false, \"margin\": {\"autoexpand\": false, \"l\": 120, \"r\": 40, \"t\": 130}, \"plot_bgcolor\": \"white\", \"showlegend\": false, \"template\": {\"data\": {\"bar\": [{\"error_x\": {\"color\": \"#2a3f5f\"}, \"error_y\": {\"color\": \"#2a3f5f\"}, \"marker\": {\"line\": {\"color\": \"#E5ECF6\", \"width\": 0.5}}, \"type\": \"bar\"}], \"barpolar\": [{\"marker\": {\"line\": {\"color\": \"#E5ECF6\", \"width\": 0.5}}, \"type\": \"barpolar\"}], \"carpet\": [{\"aaxis\": {\"endlinecolor\": \"#2a3f5f\", \"gridcolor\": \"white\", \"linecolor\": \"white\", \"minorgridcolor\": \"white\", \"startlinecolor\": \"#2a3f5f\"}, \"baxis\": {\"endlinecolor\": \"#2a3f5f\", \"gridcolor\": \"white\", \"linecolor\": \"white\", \"minorgridcolor\": \"white\", \"startlinecolor\": \"#2a3f5f\"}, \"type\": \"carpet\"}], \"choropleth\": [{\"colorbar\": {\"outlinewidth\": 0, \"ticks\": \"\"}, \"type\": \"choropleth\"}], \"contour\": [{\"colorbar\": {\"outlinewidth\": 0, \"ticks\": \"\"}, \"colorscale\": [[0.0, \"#0d0887\"], [0.1111111111111111, \"#46039f\"], [0.2222222222222222, \"#7201a8\"], [0.3333333333333333, \"#9c179e\"], [0.4444444444444444, \"#bd3786\"], [0.5555555555555556, \"#d8576b\"], [0.6666666666666666, \"#ed7953\"], [0.7777777777777778, \"#fb9f3a\"], [0.8888888888888888, \"#fdca26\"], [1.0, \"#f0f921\"]], \"type\": \"contour\"}], \"contourcarpet\": [{\"colorbar\": {\"outlinewidth\": 0, \"ticks\": \"\"}, \"type\": \"contourcarpet\"}], \"heatmap\": [{\"colorbar\": {\"outlinewidth\": 0, \"ticks\": \"\"}, \"colorscale\": [[0.0, \"#0d0887\"], [0.1111111111111111, \"#46039f\"], [0.2222222222222222, \"#7201a8\"], [0.3333333333333333, \"#9c179e\"], [0.4444444444444444, \"#bd3786\"], [0.5555555555555556, \"#d8576b\"], [0.6666666666666666, \"#ed7953\"], [0.7777777777777778, \"#fb9f3a\"], [0.8888888888888888, \"#fdca26\"], [1.0, \"#f0f921\"]], \"type\": \"heatmap\"}], \"heatmapgl\": [{\"colorbar\": {\"outlinewidth\": 0, \"ticks\": \"\"}, \"colorscale\": [[0.0, \"#0d0887\"], [0.1111111111111111, \"#46039f\"], [0.2222222222222222, \"#7201a8\"], [0.3333333333333333, \"#9c179e\"], [0.4444444444444444, \"#bd3786\"], [0.5555555555555556, \"#d8576b\"], [0.6666666666666666, \"#ed7953\"], [0.7777777777777778, \"#fb9f3a\"], [0.8888888888888888, \"#fdca26\"], [1.0, \"#f0f921\"]], \"type\": \"heatmapgl\"}], \"histogram\": [{\"marker\": {\"colorbar\": {\"outlinewidth\": 0, \"ticks\": \"\"}}, \"type\": \"histogram\"}], \"histogram2d\": [{\"colorbar\": {\"outlinewidth\": 0, \"ticks\": \"\"}, \"colorscale\": [[0.0, \"#0d0887\"], [0.1111111111111111, \"#46039f\"], [0.2222222222222222, \"#7201a8\"], [0.3333333333333333, \"#9c179e\"], [0.4444444444444444, \"#bd3786\"], [0.5555555555555556, \"#d8576b\"], [0.6666666666666666, \"#ed7953\"], [0.7777777777777778, \"#fb9f3a\"], [0.8888888888888888, \"#fdca26\"], [1.0, \"#f0f921\"]], \"type\": \"histogram2d\"}], \"histogram2dcontour\": [{\"colorbar\": {\"outlinewidth\": 0, \"ticks\": \"\"}, \"colorscale\": [[0.0, \"#0d0887\"], [0.1111111111111111, \"#46039f\"], [0.2222222222222222, \"#7201a8\"], [0.3333333333333333, \"#9c179e\"], [0.4444444444444444, \"#bd3786\"], [0.5555555555555556, \"#d8576b\"], [0.6666666666666666, \"#ed7953\"], [0.7777777777777778, \"#fb9f3a\"], [0.8888888888888888, \"#fdca26\"], [1.0, \"#f0f921\"]], \"type\": \"histogram2dcontour\"}], \"mesh3d\": [{\"colorbar\": {\"outlinewidth\": 0, \"ticks\": \"\"}, \"type\": \"mesh3d\"}], \"parcoords\": [{\"line\": {\"colorbar\": {\"outlinewidth\": 0, \"ticks\": \"\"}}, \"type\": \"parcoords\"}], \"pie\": [{\"automargin\": true, \"type\": \"pie\"}], \"scatter\": [{\"marker\": {\"colorbar\": {\"outlinewidth\": 0, \"ticks\": \"\"}}, \"type\": \"scatter\"}], \"scatter3d\": [{\"line\": {\"colorbar\": {\"outlinewidth\": 0, \"ticks\": \"\"}}, \"marker\": {\"colorbar\": {\"outlinewidth\": 0, \"ticks\": \"\"}}, \"type\": \"scatter3d\"}], \"scattercarpet\": [{\"marker\": {\"colorbar\": {\"outlinewidth\": 0, \"ticks\": \"\"}}, \"type\": \"scattercarpet\"}], \"scattergeo\": [{\"marker\": {\"colorbar\": {\"outlinewidth\": 0, \"ticks\": \"\"}}, \"type\": \"scattergeo\"}], \"scattergl\": [{\"marker\": {\"colorbar\": {\"outlinewidth\": 0, \"ticks\": \"\"}}, \"type\": \"scattergl\"}], \"scattermapbox\": [{\"marker\": {\"colorbar\": {\"outlinewidth\": 0, \"ticks\": \"\"}}, \"type\": \"scattermapbox\"}], \"scatterpolar\": [{\"marker\": {\"colorbar\": {\"outlinewidth\": 0, \"ticks\": \"\"}}, \"type\": \"scatterpolar\"}], \"scatterpolargl\": [{\"marker\": {\"colorbar\": {\"outlinewidth\": 0, \"ticks\": \"\"}}, \"type\": \"scatterpolargl\"}], \"scatterternary\": [{\"marker\": {\"colorbar\": {\"outlinewidth\": 0, \"ticks\": \"\"}}, \"type\": \"scatterternary\"}], \"surface\": [{\"colorbar\": {\"outlinewidth\": 0, \"ticks\": \"\"}, \"colorscale\": [[0.0, \"#0d0887\"], [0.1111111111111111, \"#46039f\"], [0.2222222222222222, \"#7201a8\"], [0.3333333333333333, \"#9c179e\"], [0.4444444444444444, \"#bd3786\"], [0.5555555555555556, \"#d8576b\"], [0.6666666666666666, \"#ed7953\"], [0.7777777777777778, \"#fb9f3a\"], [0.8888888888888888, \"#fdca26\"], [1.0, \"#f0f921\"]], \"type\": \"surface\"}], \"table\": [{\"cells\": {\"fill\": {\"color\": \"#EBF0F8\"}, \"line\": {\"color\": \"white\"}}, \"header\": {\"fill\": {\"color\": \"#C8D4E3\"}, \"line\": {\"color\": \"white\"}}, \"type\": \"table\"}]}, \"layout\": {\"annotationdefaults\": {\"arrowcolor\": \"#2a3f5f\", \"arrowhead\": 0, \"arrowwidth\": 1}, \"coloraxis\": {\"colorbar\": {\"outlinewidth\": 0, \"ticks\": \"\"}}, \"colorscale\": {\"diverging\": [[0, \"#8e0152\"], [0.1, \"#c51b7d\"], [0.2, \"#de77ae\"], [0.3, \"#f1b6da\"], [0.4, \"#fde0ef\"], [0.5, \"#f7f7f7\"], [0.6, \"#e6f5d0\"], [0.7, \"#b8e186\"], [0.8, \"#7fbc41\"], [0.9, \"#4d9221\"], [1, \"#276419\"]], \"sequential\": [[0.0, \"#0d0887\"], [0.1111111111111111, \"#46039f\"], [0.2222222222222222, \"#7201a8\"], [0.3333333333333333, \"#9c179e\"], [0.4444444444444444, \"#bd3786\"], [0.5555555555555556, \"#d8576b\"], [0.6666666666666666, \"#ed7953\"], [0.7777777777777778, \"#fb9f3a\"], [0.8888888888888888, \"#fdca26\"], [1.0, \"#f0f921\"]], \"sequentialminus\": [[0.0, \"#0d0887\"], [0.1111111111111111, \"#46039f\"], [0.2222222222222222, \"#7201a8\"], [0.3333333333333333, \"#9c179e\"], [0.4444444444444444, \"#bd3786\"], [0.5555555555555556, \"#d8576b\"], [0.6666666666666666, \"#ed7953\"], [0.7777777777777778, \"#fb9f3a\"], [0.8888888888888888, \"#fdca26\"], [1.0, \"#f0f921\"]]}, \"colorway\": [\"#636efa\", \"#EF553B\", \"#00cc96\", \"#ab63fa\", \"#FFA15A\", \"#19d3f3\", \"#FF6692\", \"#B6E880\", \"#FF97FF\", \"#FECB52\"], \"font\": {\"color\": \"#2a3f5f\"}, \"geo\": {\"bgcolor\": \"white\", \"lakecolor\": \"white\", \"landcolor\": \"#E5ECF6\", \"showlakes\": true, \"showland\": true, \"subunitcolor\": \"white\"}, \"hoverlabel\": {\"align\": \"left\"}, \"hovermode\": \"closest\", \"mapbox\": {\"style\": \"light\"}, \"paper_bgcolor\": \"white\", \"plot_bgcolor\": \"#E5ECF6\", \"polar\": {\"angularaxis\": {\"gridcolor\": \"white\", \"linecolor\": \"white\", \"ticks\": \"\"}, \"bgcolor\": \"#E5ECF6\", \"radialaxis\": {\"gridcolor\": \"white\", \"linecolor\": \"white\", \"ticks\": \"\"}}, \"scene\": {\"xaxis\": {\"backgroundcolor\": \"#E5ECF6\", \"gridcolor\": \"white\", \"gridwidth\": 2, \"linecolor\": \"white\", \"showbackground\": true, \"ticks\": \"\", \"zerolinecolor\": \"white\"}, \"yaxis\": {\"backgroundcolor\": \"#E5ECF6\", \"gridcolor\": \"white\", \"gridwidth\": 2, \"linecolor\": \"white\", \"showbackground\": true, \"ticks\": \"\", \"zerolinecolor\": \"white\"}, \"zaxis\": {\"backgroundcolor\": \"#E5ECF6\", \"gridcolor\": \"white\", \"gridwidth\": 2, \"linecolor\": \"white\", \"showbackground\": true, \"ticks\": \"\", \"zerolinecolor\": \"white\"}}, \"shapedefaults\": {\"line\": {\"color\": \"#2a3f5f\"}}, \"ternary\": {\"aaxis\": {\"gridcolor\": \"white\", \"linecolor\": \"white\", \"ticks\": \"\"}, \"baxis\": {\"gridcolor\": \"white\", \"linecolor\": \"white\", \"ticks\": \"\"}, \"bgcolor\": \"#E5ECF6\", \"caxis\": {\"gridcolor\": \"white\", \"linecolor\": \"white\", \"ticks\": \"\"}}, \"title\": {\"x\": 0.05}, \"xaxis\": {\"automargin\": true, \"gridcolor\": \"white\", \"linecolor\": \"white\", \"ticks\": \"\", \"title\": {\"standoff\": 15}, \"zerolinecolor\": \"white\", \"zerolinewidth\": 2}, \"yaxis\": {\"automargin\": true, \"gridcolor\": \"white\", \"linecolor\": \"white\", \"ticks\": \"\", \"title\": {\"standoff\": 15}, \"zerolinecolor\": \"white\", \"zerolinewidth\": 2}}}, \"xaxis\": {\"showgrid\": false, \"showline\": false, \"showticklabels\": false}, \"yaxis\": {\"showgrid\": false, \"showline\": false, \"showticklabels\": true, \"zeroline\": false}},\n",
       "                        {\"responsive\": true}\n",
       "                    ).then(function(){\n",
       "                            \n",
       "var gd = document.getElementById('822e2ae6-690d-47cb-9054-ad574b8fe5d0');\n",
       "var x = new MutationObserver(function (mutations, observer) {{\n",
       "        var display = window.getComputedStyle(gd).display;\n",
       "        if (!display || display === 'none') {{\n",
       "            console.log([gd, 'removed!']);\n",
       "            Plotly.purge(gd);\n",
       "            observer.disconnect();\n",
       "        }}\n",
       "}});\n",
       "\n",
       "// Listen for the removal of the full notebook cells\n",
       "var notebookContainer = gd.closest('#notebook-container');\n",
       "if (notebookContainer) {{\n",
       "    x.observe(notebookContainer, {childList: true});\n",
       "}}\n",
       "\n",
       "// Listen for the clearing of the current output cell\n",
       "var outputEl = gd.closest('.output');\n",
       "if (outputEl) {{\n",
       "    x.observe(outputEl, {childList: true});\n",
       "}}\n",
       "\n",
       "                        })\n",
       "                };\n",
       "                });\n",
       "            </script>\n",
       "        </div>"
      ]
     },
     "metadata": {},
     "output_type": "display_data"
    }
   ],
   "source": [
    "import plotly.graph_objects as go\n",
    "\n",
    "# Create random data with numpy\n",
    "import numpy as np\n",
    "np.random.seed(1)\n",
    "\n",
    "N = 100\n",
    "random_x = np.linspace(0, len(test), 100)\n",
    "\n",
    "# Create traces\n",
    "fig = go.Figure()\n",
    "fig.add_trace(go.Scatter(x=random_x, y=test,\n",
    "                    mode='lines',\n",
    "                    name='test accuracy', \n",
    "                        marker_color='rgb(37,37,37)',\n",
    "                        connectgaps=True))\n",
    "fig.add_trace(go.Scatter(x=random_x, y=train,\n",
    "                    mode='lines',\n",
    "                    name='train accuracy'\n",
    "                        ,marker_color='rgb(150,150,150)',\n",
    "                        connectgaps=True))\n",
    "fig.update_layout(\n",
    "    xaxis=dict(\n",
    "        showline=False,\n",
    "        showgrid=False,\n",
    "        showticklabels=False,\n",
    "#         linecolor='rgb(204, 204, 204)',\n",
    "#         linewidth=2,\n",
    "#         ticks='outside',\n",
    "#         tickfont=dict(\n",
    "#             family='Arial',\n",
    "#             size=12,\n",
    "#             color='rgb(82, 82, 82)',\n",
    "#        ),\n",
    "    ),\n",
    "    yaxis=dict(\n",
    "        showgrid=False,\n",
    "        zeroline=False,\n",
    "        showline=False,\n",
    "        showticklabels=True,\n",
    "    ),\n",
    "    autosize=False,\n",
    "    margin=dict(\n",
    "        autoexpand=False,\n",
    "        l=120,\n",
    "        r=40,\n",
    "        t=130,\n",
    "    ),\n",
    "    showlegend=False,\n",
    "    plot_bgcolor='white'\n",
    ")\n",
    "\n",
    "annotations = []\n",
    "# labeling the right_side of the plot\n",
    "annotations.append(dict(xref='paper', x=1.07, y=test[-1],\n",
    "                              xanchor='right',\n",
    "                              text='test',\n",
    "                              font=dict(family='Arial',\n",
    "                                        size=16,\n",
    "                                        color='rgb(37,37,37)'),\n",
    "                              showarrow=False\n",
    "                              \n",
    "                             ))\n",
    "# Source\n",
    "\n",
    "annotations.append(dict(xref='paper', x=1.07, y=train[-1],\n",
    "                              xanchor='right',\n",
    "                              text='train',\n",
    "                              font=dict(family='Arial',\n",
    "                                        size=16,\n",
    "                                        color='rgb(150,150,150)'),\n",
    "                              showarrow=False\n",
    "                              \n",
    "                             ))\n",
    "# annotations.append(dict(xref='paper', yref='paper', x=0.5, y=-0.1,\n",
    "#                               xanchor='center', yanchor='top',\n",
    "#                               text='Source: PewResearch Center & ' +\n",
    "#                                    'Storytelling with data',\n",
    "#                               font=dict(family='Arial',\n",
    "#                                         size=12,\n",
    "#                                         color='rgb(150,150,150)'),\n",
    "#                               showarrow=False))\n",
    "\n",
    "# Title\n",
    "annotations.append(dict(xref='paper', yref='paper', x=0.0, y=1.05,\n",
    "                              xanchor='left', yanchor='bottom',\n",
    "                              text='AutoRec Accuracy',\n",
    "                              font=dict(family='Arial',\n",
    "                                        size=30,\n",
    "                                        color='rgb(150,150,150)'),\n",
    "                              showarrow=False))\n",
    "\n",
    "fig.update_layout(annotations=annotations)\n",
    "\n",
    "fig.show()"
   ]
  },
  {
   "cell_type": "code",
   "execution_count": 357,
   "metadata": {
    "ExecuteTime": {
     "end_time": "2020-07-17T14:49:04.861635Z",
     "start_time": "2020-07-17T14:49:04.845792Z"
    }
   },
   "outputs": [
    {
     "ename": "NameError",
     "evalue": "name 'x' is not defined",
     "output_type": "error",
     "traceback": [
      "\u001b[0;31m---------------------------------------------------------------------------\u001b[0m",
      "\u001b[0;31mNameError\u001b[0m                                 Traceback (most recent call last)",
      "\u001b[0;32m<ipython-input-357-6fcf9dfbd479>\u001b[0m in \u001b[0;36m<module>\u001b[0;34m()\u001b[0m\n\u001b[0;32m----> 1\u001b[0;31m \u001b[0mx\u001b[0m\u001b[0;34m\u001b[0m\u001b[0;34m\u001b[0m\u001b[0m\n\u001b[0m",
      "\u001b[0;31mNameError\u001b[0m: name 'x' is not defined"
     ]
    }
   ],
   "source": [
    "x"
   ]
  },
  {
   "cell_type": "code",
   "execution_count": null,
   "metadata": {},
   "outputs": [],
   "source": []
  }
 ],
 "metadata": {
  "kernelspec": {
   "display_name": "Python 3",
   "language": "python",
   "name": "python3"
  },
  "language_info": {
   "codemirror_mode": {
    "name": "ipython",
    "version": 3
   },
   "file_extension": ".py",
   "mimetype": "text/x-python",
   "name": "python",
   "nbconvert_exporter": "python",
   "pygments_lexer": "ipython3",
   "version": "3.6.8"
  },
  "latex_envs": {
   "LaTeX_envs_menu_present": true,
   "autoclose": false,
   "autocomplete": true,
   "bibliofile": "biblio.bib",
   "cite_by": "apalike",
   "current_citInitial": 1,
   "eqLabelWithNumbers": true,
   "eqNumInitial": 1,
   "hotkeys": {
    "equation": "Ctrl-E",
    "itemize": "Ctrl-I"
   },
   "labels_anchors": false,
   "latex_user_defs": false,
   "report_style_numbering": false,
   "user_envs_cfg": false
  },
  "toc": {
   "base_numbering": 1,
   "nav_menu": {},
   "number_sections": true,
   "sideBar": true,
   "skip_h1_title": false,
   "title_cell": "Table of Contents",
   "title_sidebar": "Contents",
   "toc_cell": false,
   "toc_position": {},
   "toc_section_display": true,
   "toc_window_display": false
  }
 },
 "nbformat": 4,
 "nbformat_minor": 2
}
